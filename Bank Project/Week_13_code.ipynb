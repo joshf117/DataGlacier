{
 "cells": [
  {
   "cell_type": "code",
   "execution_count": 1,
   "id": "9f0aef5c",
   "metadata": {},
   "outputs": [],
   "source": [
    "import pandas as pd\n",
    "import matplotlib as mpl\n",
    "import matplotlib.pyplot as plt\n",
    "import seaborn as sns\n",
    "import numpy as np"
   ]
  },
  {
   "cell_type": "code",
   "execution_count": 2,
   "id": "9eff6d6d",
   "metadata": {},
   "outputs": [],
   "source": [
    "df_bank = pd.read_csv('./data/bank/bank-full.csv',sep=';')"
   ]
  },
  {
   "cell_type": "code",
   "execution_count": 3,
   "id": "da8c0e62",
   "metadata": {},
   "outputs": [
    {
     "data": {
      "text/html": [
       "<div>\n",
       "<style scoped>\n",
       "    .dataframe tbody tr th:only-of-type {\n",
       "        vertical-align: middle;\n",
       "    }\n",
       "\n",
       "    .dataframe tbody tr th {\n",
       "        vertical-align: top;\n",
       "    }\n",
       "\n",
       "    .dataframe thead th {\n",
       "        text-align: right;\n",
       "    }\n",
       "</style>\n",
       "<table border=\"1\" class=\"dataframe\">\n",
       "  <thead>\n",
       "    <tr style=\"text-align: right;\">\n",
       "      <th></th>\n",
       "      <th>age</th>\n",
       "      <th>job</th>\n",
       "      <th>marital</th>\n",
       "      <th>education</th>\n",
       "      <th>default</th>\n",
       "      <th>balance</th>\n",
       "      <th>housing</th>\n",
       "      <th>loan</th>\n",
       "      <th>contact</th>\n",
       "      <th>day</th>\n",
       "      <th>month</th>\n",
       "      <th>duration</th>\n",
       "      <th>campaign</th>\n",
       "      <th>pdays</th>\n",
       "      <th>previous</th>\n",
       "      <th>poutcome</th>\n",
       "      <th>y</th>\n",
       "    </tr>\n",
       "  </thead>\n",
       "  <tbody>\n",
       "    <tr>\n",
       "      <th>0</th>\n",
       "      <td>58</td>\n",
       "      <td>management</td>\n",
       "      <td>married</td>\n",
       "      <td>tertiary</td>\n",
       "      <td>no</td>\n",
       "      <td>2143</td>\n",
       "      <td>yes</td>\n",
       "      <td>no</td>\n",
       "      <td>unknown</td>\n",
       "      <td>5</td>\n",
       "      <td>may</td>\n",
       "      <td>261</td>\n",
       "      <td>1</td>\n",
       "      <td>-1</td>\n",
       "      <td>0</td>\n",
       "      <td>unknown</td>\n",
       "      <td>no</td>\n",
       "    </tr>\n",
       "    <tr>\n",
       "      <th>1</th>\n",
       "      <td>44</td>\n",
       "      <td>technician</td>\n",
       "      <td>single</td>\n",
       "      <td>secondary</td>\n",
       "      <td>no</td>\n",
       "      <td>29</td>\n",
       "      <td>yes</td>\n",
       "      <td>no</td>\n",
       "      <td>unknown</td>\n",
       "      <td>5</td>\n",
       "      <td>may</td>\n",
       "      <td>151</td>\n",
       "      <td>1</td>\n",
       "      <td>-1</td>\n",
       "      <td>0</td>\n",
       "      <td>unknown</td>\n",
       "      <td>no</td>\n",
       "    </tr>\n",
       "    <tr>\n",
       "      <th>2</th>\n",
       "      <td>33</td>\n",
       "      <td>entrepreneur</td>\n",
       "      <td>married</td>\n",
       "      <td>secondary</td>\n",
       "      <td>no</td>\n",
       "      <td>2</td>\n",
       "      <td>yes</td>\n",
       "      <td>yes</td>\n",
       "      <td>unknown</td>\n",
       "      <td>5</td>\n",
       "      <td>may</td>\n",
       "      <td>76</td>\n",
       "      <td>1</td>\n",
       "      <td>-1</td>\n",
       "      <td>0</td>\n",
       "      <td>unknown</td>\n",
       "      <td>no</td>\n",
       "    </tr>\n",
       "    <tr>\n",
       "      <th>3</th>\n",
       "      <td>47</td>\n",
       "      <td>blue-collar</td>\n",
       "      <td>married</td>\n",
       "      <td>unknown</td>\n",
       "      <td>no</td>\n",
       "      <td>1506</td>\n",
       "      <td>yes</td>\n",
       "      <td>no</td>\n",
       "      <td>unknown</td>\n",
       "      <td>5</td>\n",
       "      <td>may</td>\n",
       "      <td>92</td>\n",
       "      <td>1</td>\n",
       "      <td>-1</td>\n",
       "      <td>0</td>\n",
       "      <td>unknown</td>\n",
       "      <td>no</td>\n",
       "    </tr>\n",
       "    <tr>\n",
       "      <th>4</th>\n",
       "      <td>33</td>\n",
       "      <td>unknown</td>\n",
       "      <td>single</td>\n",
       "      <td>unknown</td>\n",
       "      <td>no</td>\n",
       "      <td>1</td>\n",
       "      <td>no</td>\n",
       "      <td>no</td>\n",
       "      <td>unknown</td>\n",
       "      <td>5</td>\n",
       "      <td>may</td>\n",
       "      <td>198</td>\n",
       "      <td>1</td>\n",
       "      <td>-1</td>\n",
       "      <td>0</td>\n",
       "      <td>unknown</td>\n",
       "      <td>no</td>\n",
       "    </tr>\n",
       "  </tbody>\n",
       "</table>\n",
       "</div>"
      ],
      "text/plain": [
       "   age           job  marital  education default  balance housing loan  \\\n",
       "0   58    management  married   tertiary      no     2143     yes   no   \n",
       "1   44    technician   single  secondary      no       29     yes   no   \n",
       "2   33  entrepreneur  married  secondary      no        2     yes  yes   \n",
       "3   47   blue-collar  married    unknown      no     1506     yes   no   \n",
       "4   33       unknown   single    unknown      no        1      no   no   \n",
       "\n",
       "   contact  day month  duration  campaign  pdays  previous poutcome   y  \n",
       "0  unknown    5   may       261         1     -1         0  unknown  no  \n",
       "1  unknown    5   may       151         1     -1         0  unknown  no  \n",
       "2  unknown    5   may        76         1     -1         0  unknown  no  \n",
       "3  unknown    5   may        92         1     -1         0  unknown  no  \n",
       "4  unknown    5   may       198         1     -1         0  unknown  no  "
      ]
     },
     "execution_count": 3,
     "metadata": {},
     "output_type": "execute_result"
    }
   ],
   "source": [
    "df_bank.head()"
   ]
  },
  {
   "cell_type": "code",
   "execution_count": 4,
   "id": "d4db4c67",
   "metadata": {},
   "outputs": [
    {
     "data": {
      "text/plain": [
       "(45211, 17)"
      ]
     },
     "execution_count": 4,
     "metadata": {},
     "output_type": "execute_result"
    }
   ],
   "source": [
    "df_bank.shape"
   ]
  },
  {
   "cell_type": "code",
   "execution_count": 5,
   "id": "f59fb818",
   "metadata": {},
   "outputs": [
    {
     "data": {
      "text/plain": [
       "age           int64\n",
       "job          object\n",
       "marital      object\n",
       "education    object\n",
       "default      object\n",
       "balance       int64\n",
       "housing      object\n",
       "loan         object\n",
       "contact      object\n",
       "day           int64\n",
       "month        object\n",
       "duration      int64\n",
       "campaign      int64\n",
       "pdays         int64\n",
       "previous      int64\n",
       "poutcome     object\n",
       "y            object\n",
       "dtype: object"
      ]
     },
     "execution_count": 5,
     "metadata": {},
     "output_type": "execute_result"
    }
   ],
   "source": [
    "df_bank.dtypes"
   ]
  },
  {
   "cell_type": "code",
   "execution_count": 6,
   "id": "8e5713cc",
   "metadata": {},
   "outputs": [
    {
     "data": {
      "text/html": [
       "<div>\n",
       "<style scoped>\n",
       "    .dataframe tbody tr th:only-of-type {\n",
       "        vertical-align: middle;\n",
       "    }\n",
       "\n",
       "    .dataframe tbody tr th {\n",
       "        vertical-align: top;\n",
       "    }\n",
       "\n",
       "    .dataframe thead th {\n",
       "        text-align: right;\n",
       "    }\n",
       "</style>\n",
       "<table border=\"1\" class=\"dataframe\">\n",
       "  <thead>\n",
       "    <tr style=\"text-align: right;\">\n",
       "      <th></th>\n",
       "      <th>age</th>\n",
       "      <th>balance</th>\n",
       "      <th>day</th>\n",
       "      <th>duration</th>\n",
       "      <th>campaign</th>\n",
       "      <th>pdays</th>\n",
       "      <th>previous</th>\n",
       "    </tr>\n",
       "  </thead>\n",
       "  <tbody>\n",
       "    <tr>\n",
       "      <th>count</th>\n",
       "      <td>45211.000000</td>\n",
       "      <td>45211.000000</td>\n",
       "      <td>45211.000000</td>\n",
       "      <td>45211.000000</td>\n",
       "      <td>45211.000000</td>\n",
       "      <td>45211.000000</td>\n",
       "      <td>45211.000000</td>\n",
       "    </tr>\n",
       "    <tr>\n",
       "      <th>mean</th>\n",
       "      <td>40.936210</td>\n",
       "      <td>1362.272058</td>\n",
       "      <td>15.806419</td>\n",
       "      <td>258.163080</td>\n",
       "      <td>2.763841</td>\n",
       "      <td>40.197828</td>\n",
       "      <td>0.580323</td>\n",
       "    </tr>\n",
       "    <tr>\n",
       "      <th>std</th>\n",
       "      <td>10.618762</td>\n",
       "      <td>3044.765829</td>\n",
       "      <td>8.322476</td>\n",
       "      <td>257.527812</td>\n",
       "      <td>3.098021</td>\n",
       "      <td>100.128746</td>\n",
       "      <td>2.303441</td>\n",
       "    </tr>\n",
       "    <tr>\n",
       "      <th>min</th>\n",
       "      <td>18.000000</td>\n",
       "      <td>-8019.000000</td>\n",
       "      <td>1.000000</td>\n",
       "      <td>0.000000</td>\n",
       "      <td>1.000000</td>\n",
       "      <td>-1.000000</td>\n",
       "      <td>0.000000</td>\n",
       "    </tr>\n",
       "    <tr>\n",
       "      <th>25%</th>\n",
       "      <td>33.000000</td>\n",
       "      <td>72.000000</td>\n",
       "      <td>8.000000</td>\n",
       "      <td>103.000000</td>\n",
       "      <td>1.000000</td>\n",
       "      <td>-1.000000</td>\n",
       "      <td>0.000000</td>\n",
       "    </tr>\n",
       "    <tr>\n",
       "      <th>50%</th>\n",
       "      <td>39.000000</td>\n",
       "      <td>448.000000</td>\n",
       "      <td>16.000000</td>\n",
       "      <td>180.000000</td>\n",
       "      <td>2.000000</td>\n",
       "      <td>-1.000000</td>\n",
       "      <td>0.000000</td>\n",
       "    </tr>\n",
       "    <tr>\n",
       "      <th>75%</th>\n",
       "      <td>48.000000</td>\n",
       "      <td>1428.000000</td>\n",
       "      <td>21.000000</td>\n",
       "      <td>319.000000</td>\n",
       "      <td>3.000000</td>\n",
       "      <td>-1.000000</td>\n",
       "      <td>0.000000</td>\n",
       "    </tr>\n",
       "    <tr>\n",
       "      <th>max</th>\n",
       "      <td>95.000000</td>\n",
       "      <td>102127.000000</td>\n",
       "      <td>31.000000</td>\n",
       "      <td>4918.000000</td>\n",
       "      <td>63.000000</td>\n",
       "      <td>871.000000</td>\n",
       "      <td>275.000000</td>\n",
       "    </tr>\n",
       "  </tbody>\n",
       "</table>\n",
       "</div>"
      ],
      "text/plain": [
       "                age        balance           day      duration      campaign  \\\n",
       "count  45211.000000   45211.000000  45211.000000  45211.000000  45211.000000   \n",
       "mean      40.936210    1362.272058     15.806419    258.163080      2.763841   \n",
       "std       10.618762    3044.765829      8.322476    257.527812      3.098021   \n",
       "min       18.000000   -8019.000000      1.000000      0.000000      1.000000   \n",
       "25%       33.000000      72.000000      8.000000    103.000000      1.000000   \n",
       "50%       39.000000     448.000000     16.000000    180.000000      2.000000   \n",
       "75%       48.000000    1428.000000     21.000000    319.000000      3.000000   \n",
       "max       95.000000  102127.000000     31.000000   4918.000000     63.000000   \n",
       "\n",
       "              pdays      previous  \n",
       "count  45211.000000  45211.000000  \n",
       "mean      40.197828      0.580323  \n",
       "std      100.128746      2.303441  \n",
       "min       -1.000000      0.000000  \n",
       "25%       -1.000000      0.000000  \n",
       "50%       -1.000000      0.000000  \n",
       "75%       -1.000000      0.000000  \n",
       "max      871.000000    275.000000  "
      ]
     },
     "execution_count": 6,
     "metadata": {},
     "output_type": "execute_result"
    }
   ],
   "source": [
    "df_bank.describe()"
   ]
  },
  {
   "cell_type": "code",
   "execution_count": 7,
   "id": "c0563521",
   "metadata": {},
   "outputs": [
    {
     "data": {
      "text/plain": [
       "age          45211\n",
       "job          45211\n",
       "marital      45211\n",
       "education    45211\n",
       "default      45211\n",
       "balance      45211\n",
       "housing      45211\n",
       "loan         45211\n",
       "contact      45211\n",
       "day          45211\n",
       "month        45211\n",
       "duration     45211\n",
       "campaign     45211\n",
       "pdays        45211\n",
       "previous     45211\n",
       "poutcome     45211\n",
       "y            45211\n",
       "dtype: int64"
      ]
     },
     "execution_count": 7,
     "metadata": {},
     "output_type": "execute_result"
    }
   ],
   "source": [
    "df_bank.count()"
   ]
  },
  {
   "cell_type": "code",
   "execution_count": 8,
   "id": "c21eec65",
   "metadata": {},
   "outputs": [
    {
     "data": {
      "text/plain": [
       "32    2085\n",
       "31    1996\n",
       "33    1972\n",
       "34    1930\n",
       "35    1894\n",
       "      ... \n",
       "93       2\n",
       "90       2\n",
       "95       2\n",
       "88       2\n",
       "94       1\n",
       "Name: age, Length: 77, dtype: int64"
      ]
     },
     "execution_count": 8,
     "metadata": {},
     "output_type": "execute_result"
    }
   ],
   "source": [
    "df_bank['age'].value_counts()"
   ]
  },
  {
   "cell_type": "code",
   "execution_count": 9,
   "id": "414795c3",
   "metadata": {},
   "outputs": [
    {
     "data": {
      "text/plain": [
       "Text(0, 0.5, 'count')"
      ]
     },
     "execution_count": 9,
     "metadata": {},
     "output_type": "execute_result"
    },
    {
     "data": {
      "image/png": "[encoded data removed]",
      "text/plain": [
       "<Figure size 432x288 with 1 Axes>"
      ]
     },
     "metadata": {
      "needs_background": "light"
     },
     "output_type": "display_data"
    }
   ],
   "source": [
    "# matplotlib histogram\n",
    "plt.hist(df_bank['age'], color = 'pink', edgecolor = 'black',\n",
    "         bins = 50)\n",
    "\n",
    "plt.title('Histogram of Age')\n",
    "plt.xlabel('age')\n",
    "plt.ylabel('count')"
   ]
  },
  {
   "cell_type": "code",
   "execution_count": 10,
   "id": "240b8bc1",
   "metadata": {},
   "outputs": [
    {
     "data": {
      "text/plain": [
       "blue-collar      9732\n",
       "management       9458\n",
       "technician       7597\n",
       "admin.           5171\n",
       "services         4154\n",
       "retired          2264\n",
       "self-employed    1579\n",
       "entrepreneur     1487\n",
       "unemployed       1303\n",
       "housemaid        1240\n",
       "student           938\n",
       "unknown           288\n",
       "Name: job, dtype: int64"
      ]
     },
     "execution_count": 10,
     "metadata": {},
     "output_type": "execute_result"
    }
   ],
   "source": [
    "df_bank['job'].value_counts()"
   ]
  },
  {
   "cell_type": "code",
   "execution_count": 11,
   "id": "28310c2b",
   "metadata": {},
   "outputs": [
    {
     "data": {
      "text/plain": [
       "<AxesSubplot:>"
      ]
     },
     "execution_count": 11,
     "metadata": {},
     "output_type": "execute_result"
    },
    {
     "data": {
      "image/png": "[encoded data removed]",
      "text/plain": [
       "<Figure size 432x288 with 1 Axes>"
      ]
     },
     "metadata": {
      "needs_background": "light"
     },
     "output_type": "display_data"
    }
   ],
   "source": [
    "df_bank['job'].value_counts().head(20).plot(kind='bar')"
   ]
  },
  {
   "cell_type": "code",
   "execution_count": 12,
   "id": "bc516072",
   "metadata": {},
   "outputs": [
    {
     "data": {
      "text/plain": [
       "married     27214\n",
       "single      12790\n",
       "divorced     5207\n",
       "Name: marital, dtype: int64"
      ]
     },
     "execution_count": 12,
     "metadata": {},
     "output_type": "execute_result"
    }
   ],
   "source": [
    "df_bank['marital'].value_counts()"
   ]
  },
  {
   "cell_type": "code",
   "execution_count": 13,
   "id": "999903ce",
   "metadata": {},
   "outputs": [
    {
     "data": {
      "text/plain": [
       "secondary    23202\n",
       "tertiary     13301\n",
       "primary       6851\n",
       "unknown       1857\n",
       "Name: education, dtype: int64"
      ]
     },
     "execution_count": 13,
     "metadata": {},
     "output_type": "execute_result"
    }
   ],
   "source": [
    "df_bank['education'].value_counts()"
   ]
  },
  {
   "cell_type": "code",
   "execution_count": 14,
   "id": "4efe7b04",
   "metadata": {},
   "outputs": [
    {
     "data": {
      "text/plain": [
       "no     44396\n",
       "yes      815\n",
       "Name: default, dtype: int64"
      ]
     },
     "execution_count": 14,
     "metadata": {},
     "output_type": "execute_result"
    }
   ],
   "source": [
    "df_bank['default'].value_counts()"
   ]
  },
  {
   "cell_type": "code",
   "execution_count": 15,
   "id": "7144a998",
   "metadata": {},
   "outputs": [
    {
     "data": {
      "text/plain": [
       "yes    25130\n",
       "no     20081\n",
       "Name: housing, dtype: int64"
      ]
     },
     "execution_count": 15,
     "metadata": {},
     "output_type": "execute_result"
    }
   ],
   "source": [
    "df_bank['housing'].value_counts()"
   ]
  },
  {
   "cell_type": "code",
   "execution_count": 16,
   "id": "62a23c43",
   "metadata": {},
   "outputs": [
    {
     "data": {
      "text/plain": [
       "no     37967\n",
       "yes     7244\n",
       "Name: loan, dtype: int64"
      ]
     },
     "execution_count": 16,
     "metadata": {},
     "output_type": "execute_result"
    }
   ],
   "source": [
    "df_bank['loan'].value_counts()"
   ]
  },
  {
   "cell_type": "code",
   "execution_count": 17,
   "id": "8db5f700",
   "metadata": {},
   "outputs": [
    {
     "data": {
      "text/plain": [
       "cellular     29285\n",
       "unknown      13020\n",
       "telephone     2906\n",
       "Name: contact, dtype: int64"
      ]
     },
     "execution_count": 17,
     "metadata": {},
     "output_type": "execute_result"
    }
   ],
   "source": [
    "df_bank['contact'].value_counts()"
   ]
  },
  {
   "cell_type": "code",
   "execution_count": 18,
   "id": "f01519ab",
   "metadata": {},
   "outputs": [
    {
     "data": {
      "text/plain": [
       "Text(0, 0.5, 'count')"
      ]
     },
     "execution_count": 18,
     "metadata": {},
     "output_type": "execute_result"
    },
    {
     "data": {
      "image/png": "[encoded data removed]",
      "text/plain": [
       "<Figure size 432x288 with 1 Axes>"
      ]
     },
     "metadata": {
      "needs_background": "light"
     },
     "output_type": "display_data"
    }
   ],
   "source": [
    "plt.hist(df_bank['day'], color = 'pink', edgecolor = 'black',\n",
    "         bins = 31)\n",
    "\n",
    "plt.title('Histogram of day')\n",
    "plt.xlabel('day')\n",
    "plt.ylabel('count')"
   ]
  },
  {
   "cell_type": "code",
   "execution_count": 19,
   "id": "726d1da0",
   "metadata": {},
   "outputs": [
    {
     "data": {
      "text/plain": [
       "may    13766\n",
       "jul     6895\n",
       "aug     6247\n",
       "jun     5341\n",
       "nov     3970\n",
       "apr     2932\n",
       "feb     2649\n",
       "jan     1403\n",
       "oct      738\n",
       "sep      579\n",
       "mar      477\n",
       "dec      214\n",
       "Name: month, dtype: int64"
      ]
     },
     "execution_count": 19,
     "metadata": {},
     "output_type": "execute_result"
    }
   ],
   "source": [
    "df_bank['month'].value_counts()"
   ]
  },
  {
   "cell_type": "code",
   "execution_count": 20,
   "id": "20d93159",
   "metadata": {},
   "outputs": [
    {
     "data": {
      "text/plain": [
       "Text(0, 0.5, 'count')"
      ]
     },
     "execution_count": 20,
     "metadata": {},
     "output_type": "execute_result"
    },
    {
     "data": {
      "image/png": "[encoded data removed]",
      "text/plain": [
       "<Figure size 432x288 with 1 Axes>"
      ]
     },
     "metadata": {
      "needs_background": "light"
     },
     "output_type": "display_data"
    }
   ],
   "source": [
    "plt.hist(df_bank['duration'], color = 'pink', edgecolor = 'black',\n",
    "         bins = 100)\n",
    "\n",
    "plt.title('Histogram of duration')\n",
    "plt.xlabel('duration')\n",
    "plt.ylabel('count')"
   ]
  },
  {
   "cell_type": "code",
   "execution_count": 21,
   "id": "81af946e",
   "metadata": {},
   "outputs": [
    {
     "data": {
      "text/plain": [
       "<AxesSubplot:>"
      ]
     },
     "execution_count": 21,
     "metadata": {},
     "output_type": "execute_result"
    },
    {
     "data": {
      "image/png": "[encoded data removed]",
      "text/plain": [
       "<Figure size 432x288 with 1 Axes>"
      ]
     },
     "metadata": {
      "needs_background": "light"
     },
     "output_type": "display_data"
    }
   ],
   "source": [
    "df_bank['campaign'].value_counts().head(20).plot(kind='bar')"
   ]
  },
  {
   "cell_type": "code",
   "execution_count": 22,
   "id": "9432eaae",
   "metadata": {},
   "outputs": [
    {
     "data": {
      "text/plain": [
       "<AxesSubplot:>"
      ]
     },
     "execution_count": 22,
     "metadata": {},
     "output_type": "execute_result"
    },
    {
     "data": {
      "image/png": "[encoded data removed]",
      "text/plain": [
       "<Figure size 432x288 with 1 Axes>"
      ]
     },
     "metadata": {
      "needs_background": "light"
     },
     "output_type": "display_data"
    }
   ],
   "source": [
    "df_bank['pdays'].value_counts().head(20).plot(kind='bar')"
   ]
  },
  {
   "cell_type": "code",
   "execution_count": 23,
   "id": "3af8a7a7",
   "metadata": {},
   "outputs": [
    {
     "data": {
      "text/plain": [
       "<AxesSubplot:>"
      ]
     },
     "execution_count": 23,
     "metadata": {},
     "output_type": "execute_result"
    },
    {
     "data": {
      "image/png": "[encoded data removed]",
      "text/plain": [
       "<Figure size 432x288 with 1 Axes>"
      ]
     },
     "metadata": {
      "needs_background": "light"
     },
     "output_type": "display_data"
    }
   ],
   "source": [
    "df_bank['previous'].value_counts().head(20).plot(kind='bar')"
   ]
  },
  {
   "cell_type": "code",
   "execution_count": 24,
   "id": "67d7641d",
   "metadata": {},
   "outputs": [
    {
     "data": {
      "text/plain": [
       "unknown    36959\n",
       "failure     4901\n",
       "other       1840\n",
       "success     1511\n",
       "Name: poutcome, dtype: int64"
      ]
     },
     "execution_count": 24,
     "metadata": {},
     "output_type": "execute_result"
    }
   ],
   "source": [
    "df_bank['poutcome'].value_counts()"
   ]
  },
  {
   "cell_type": "code",
   "execution_count": 25,
   "id": "54b00ec9",
   "metadata": {},
   "outputs": [
    {
     "data": {
      "text/plain": [
       "no     39922\n",
       "yes     5289\n",
       "Name: y, dtype: int64"
      ]
     },
     "execution_count": 25,
     "metadata": {},
     "output_type": "execute_result"
    }
   ],
   "source": [
    "df_bank['y'].value_counts()"
   ]
  },
  {
   "cell_type": "code",
   "execution_count": 26,
   "id": "b857ffc5",
   "metadata": {},
   "outputs": [],
   "source": [
    "# approach 1: remove unknown values if sample size is small\n",
    "df_bank_clean_0 = df_bank.copy()\n",
    "df_bank_clean_0 = df_bank_clean_0[df_bank_clean_0['job'] != 'unknown']\n",
    "df_bank_clean_0 = df_bank_clean_0[df_bank_clean_0['education'] != 'unknown']"
   ]
  },
  {
   "cell_type": "code",
   "execution_count": 27,
   "id": "7aa29ad7",
   "metadata": {},
   "outputs": [],
   "source": [
    "for i in range(len(df_bank_clean_0)):\n",
    "     if df_bank_clean_0.iloc[i,8] == 'unknown':\n",
    "        df_bank_clean_0.iloc[i,8] = np.random.choice(['cellular','telephone'],p=[0.91,0.09])"
   ]
  },
  {
   "cell_type": "code",
   "execution_count": 28,
   "id": "3795911a",
   "metadata": {},
   "outputs": [],
   "source": [
    "for i in range(len(df_bank_clean_0)):\n",
    "     if df_bank_clean_0.iloc[i,15] == 'unknown':\n",
    "        df_bank_clean_0.iloc[i,15] = np.random.choice(['failure','other','success'],p=[0.59,0.22,0.19])"
   ]
  },
  {
   "cell_type": "code",
   "execution_count": 29,
   "id": "22e7478c",
   "metadata": {},
   "outputs": [],
   "source": [
    "df_bank_clean_0 = df_bank_clean_0[df_bank_clean_0['age'] <= 70]\n",
    "df_bank_clean_0 = df_bank_clean_0[df_bank_clean_0['duration'] <= 480]\n",
    "df_bank_clean_0 = df_bank_clean_0[df_bank_clean_0['campaign'] <= 6]"
   ]
  },
  {
   "cell_type": "code",
   "execution_count": 30,
   "id": "e7b182be",
   "metadata": {},
   "outputs": [
    {
     "data": {
      "text/plain": [
       "34727"
      ]
     },
     "execution_count": 30,
     "metadata": {},
     "output_type": "execute_result"
    }
   ],
   "source": [
    "len(df_bank_clean_0)"
   ]
  },
  {
   "cell_type": "code",
   "execution_count": 32,
   "id": "4cb0d898",
   "metadata": {},
   "outputs": [],
   "source": [
    "df_bank_clean_0.to_csv('df_clean.csv')"
   ]
  },
  {
   "cell_type": "code",
   "execution_count": 33,
   "id": "9acffd76",
   "metadata": {},
   "outputs": [],
   "source": [
    "df = pd.read_csv('df_clean.csv',index_col=0).reset_index()"
   ]
  },
  {
   "cell_type": "code",
   "execution_count": 34,
   "id": "345d40b2",
   "metadata": {},
   "outputs": [
    {
     "data": {
      "text/html": [
       "<div>\n",
       "<style scoped>\n",
       "    .dataframe tbody tr th:only-of-type {\n",
       "        vertical-align: middle;\n",
       "    }\n",
       "\n",
       "    .dataframe tbody tr th {\n",
       "        vertical-align: top;\n",
       "    }\n",
       "\n",
       "    .dataframe thead th {\n",
       "        text-align: right;\n",
       "    }\n",
       "</style>\n",
       "<table border=\"1\" class=\"dataframe\">\n",
       "  <thead>\n",
       "    <tr style=\"text-align: right;\">\n",
       "      <th></th>\n",
       "      <th>age</th>\n",
       "      <th>job</th>\n",
       "      <th>marital</th>\n",
       "      <th>education</th>\n",
       "      <th>default</th>\n",
       "      <th>balance</th>\n",
       "      <th>housing</th>\n",
       "      <th>loan</th>\n",
       "      <th>contact</th>\n",
       "      <th>duration</th>\n",
       "      <th>campaign</th>\n",
       "      <th>previous</th>\n",
       "      <th>poutcome</th>\n",
       "      <th>y</th>\n",
       "    </tr>\n",
       "  </thead>\n",
       "  <tbody>\n",
       "    <tr>\n",
       "      <th>0</th>\n",
       "      <td>58</td>\n",
       "      <td>management</td>\n",
       "      <td>married</td>\n",
       "      <td>tertiary</td>\n",
       "      <td>no</td>\n",
       "      <td>2143</td>\n",
       "      <td>yes</td>\n",
       "      <td>no</td>\n",
       "      <td>cellular</td>\n",
       "      <td>261</td>\n",
       "      <td>1</td>\n",
       "      <td>0</td>\n",
       "      <td>failure</td>\n",
       "      <td>no</td>\n",
       "    </tr>\n",
       "    <tr>\n",
       "      <th>1</th>\n",
       "      <td>44</td>\n",
       "      <td>technician</td>\n",
       "      <td>single</td>\n",
       "      <td>secondary</td>\n",
       "      <td>no</td>\n",
       "      <td>29</td>\n",
       "      <td>yes</td>\n",
       "      <td>no</td>\n",
       "      <td>cellular</td>\n",
       "      <td>151</td>\n",
       "      <td>1</td>\n",
       "      <td>0</td>\n",
       "      <td>other</td>\n",
       "      <td>no</td>\n",
       "    </tr>\n",
       "    <tr>\n",
       "      <th>2</th>\n",
       "      <td>33</td>\n",
       "      <td>entrepreneur</td>\n",
       "      <td>married</td>\n",
       "      <td>secondary</td>\n",
       "      <td>no</td>\n",
       "      <td>2</td>\n",
       "      <td>yes</td>\n",
       "      <td>yes</td>\n",
       "      <td>cellular</td>\n",
       "      <td>76</td>\n",
       "      <td>1</td>\n",
       "      <td>0</td>\n",
       "      <td>failure</td>\n",
       "      <td>no</td>\n",
       "    </tr>\n",
       "    <tr>\n",
       "      <th>3</th>\n",
       "      <td>35</td>\n",
       "      <td>management</td>\n",
       "      <td>married</td>\n",
       "      <td>tertiary</td>\n",
       "      <td>no</td>\n",
       "      <td>231</td>\n",
       "      <td>yes</td>\n",
       "      <td>no</td>\n",
       "      <td>cellular</td>\n",
       "      <td>139</td>\n",
       "      <td>1</td>\n",
       "      <td>0</td>\n",
       "      <td>other</td>\n",
       "      <td>no</td>\n",
       "    </tr>\n",
       "    <tr>\n",
       "      <th>4</th>\n",
       "      <td>28</td>\n",
       "      <td>management</td>\n",
       "      <td>single</td>\n",
       "      <td>tertiary</td>\n",
       "      <td>no</td>\n",
       "      <td>447</td>\n",
       "      <td>yes</td>\n",
       "      <td>yes</td>\n",
       "      <td>cellular</td>\n",
       "      <td>217</td>\n",
       "      <td>1</td>\n",
       "      <td>0</td>\n",
       "      <td>other</td>\n",
       "      <td>no</td>\n",
       "    </tr>\n",
       "  </tbody>\n",
       "</table>\n",
       "</div>"
      ],
      "text/plain": [
       "   age           job  marital  education default  balance housing loan  \\\n",
       "0   58    management  married   tertiary      no     2143     yes   no   \n",
       "1   44    technician   single  secondary      no       29     yes   no   \n",
       "2   33  entrepreneur  married  secondary      no        2     yes  yes   \n",
       "3   35    management  married   tertiary      no      231     yes   no   \n",
       "4   28    management   single   tertiary      no      447     yes  yes   \n",
       "\n",
       "    contact  duration  campaign  previous poutcome   y  \n",
       "0  cellular       261         1         0  failure  no  \n",
       "1  cellular       151         1         0    other  no  \n",
       "2  cellular        76         1         0  failure  no  \n",
       "3  cellular       139         1         0    other  no  \n",
       "4  cellular       217         1         0    other  no  "
      ]
     },
     "execution_count": 34,
     "metadata": {},
     "output_type": "execute_result"
    }
   ],
   "source": [
    "df.drop(labels=['day','month','index','pdays'],axis=1,inplace=True)\n",
    "df.head()"
   ]
  },
  {
   "cell_type": "code",
   "execution_count": 35,
   "id": "4cf185ca",
   "metadata": {},
   "outputs": [],
   "source": [
    "#change categorical values into numerical values\n",
    "df = df.replace('no',0)\n",
    "df = df.replace('yes',1)\n",
    "\n",
    "df = df.replace('cellular',0)\n",
    "df = df.replace('telephone',1)\n",
    "\n",
    "df = df.replace('success',1)\n",
    "df = df.replace('failure',0)\n",
    "df = df.replace('other',0)"
   ]
  },
  {
   "cell_type": "code",
   "execution_count": 36,
   "id": "bcc85f95",
   "metadata": {},
   "outputs": [],
   "source": [
    "for i in range(len(df)):\n",
    "    if df.loc[i,'job'] == 'management':\n",
    "        df.loc[i,'job'] = 1\n",
    "    else:\n",
    "        df.loc[i,'job'] = 0"
   ]
  },
  {
   "cell_type": "code",
   "execution_count": 37,
   "id": "a2b62d26",
   "metadata": {},
   "outputs": [],
   "source": [
    "for i in range(len(df)):\n",
    "    if df.loc[i,'marital'] == 'married':\n",
    "        df.loc[i,'marital'] = 2\n",
    "    elif df.loc[i,'marital'] == 'single':\n",
    "        df.loc[i,'marital'] = 1\n",
    "    else:\n",
    "        df.loc[i,'marital'] = 0"
   ]
  },
  {
   "cell_type": "code",
   "execution_count": 38,
   "id": "25d229a5",
   "metadata": {},
   "outputs": [],
   "source": [
    "for i in range(len(df)):\n",
    "    if df.loc[i,'education'] == 'tertiary':\n",
    "        df.loc[i,'education'] = 2\n",
    "    elif df.loc[i,'education'] == 'secondary':\n",
    "        df.loc[i,'education'] = 1\n",
    "    else:\n",
    "        df.loc[i,'education'] = 0"
   ]
  },
  {
   "cell_type": "code",
   "execution_count": 39,
   "id": "8d424eb8",
   "metadata": {},
   "outputs": [
    {
     "data": {
      "text/html": [
       "<div>\n",
       "<style scoped>\n",
       "    .dataframe tbody tr th:only-of-type {\n",
       "        vertical-align: middle;\n",
       "    }\n",
       "\n",
       "    .dataframe tbody tr th {\n",
       "        vertical-align: top;\n",
       "    }\n",
       "\n",
       "    .dataframe thead th {\n",
       "        text-align: right;\n",
       "    }\n",
       "</style>\n",
       "<table border=\"1\" class=\"dataframe\">\n",
       "  <thead>\n",
       "    <tr style=\"text-align: right;\">\n",
       "      <th></th>\n",
       "      <th>age</th>\n",
       "      <th>job</th>\n",
       "      <th>marital</th>\n",
       "      <th>education</th>\n",
       "      <th>default</th>\n",
       "      <th>balance</th>\n",
       "      <th>housing</th>\n",
       "      <th>loan</th>\n",
       "      <th>contact</th>\n",
       "      <th>duration</th>\n",
       "      <th>campaign</th>\n",
       "      <th>previous</th>\n",
       "      <th>poutcome</th>\n",
       "      <th>y</th>\n",
       "    </tr>\n",
       "  </thead>\n",
       "  <tbody>\n",
       "    <tr>\n",
       "      <th>0</th>\n",
       "      <td>58</td>\n",
       "      <td>1</td>\n",
       "      <td>2</td>\n",
       "      <td>2</td>\n",
       "      <td>0</td>\n",
       "      <td>2143</td>\n",
       "      <td>1</td>\n",
       "      <td>0</td>\n",
       "      <td>0</td>\n",
       "      <td>261</td>\n",
       "      <td>1</td>\n",
       "      <td>0</td>\n",
       "      <td>0</td>\n",
       "      <td>0</td>\n",
       "    </tr>\n",
       "    <tr>\n",
       "      <th>1</th>\n",
       "      <td>44</td>\n",
       "      <td>0</td>\n",
       "      <td>1</td>\n",
       "      <td>1</td>\n",
       "      <td>0</td>\n",
       "      <td>29</td>\n",
       "      <td>1</td>\n",
       "      <td>0</td>\n",
       "      <td>0</td>\n",
       "      <td>151</td>\n",
       "      <td>1</td>\n",
       "      <td>0</td>\n",
       "      <td>0</td>\n",
       "      <td>0</td>\n",
       "    </tr>\n",
       "    <tr>\n",
       "      <th>2</th>\n",
       "      <td>33</td>\n",
       "      <td>0</td>\n",
       "      <td>2</td>\n",
       "      <td>1</td>\n",
       "      <td>0</td>\n",
       "      <td>2</td>\n",
       "      <td>1</td>\n",
       "      <td>1</td>\n",
       "      <td>0</td>\n",
       "      <td>76</td>\n",
       "      <td>1</td>\n",
       "      <td>0</td>\n",
       "      <td>0</td>\n",
       "      <td>0</td>\n",
       "    </tr>\n",
       "    <tr>\n",
       "      <th>3</th>\n",
       "      <td>35</td>\n",
       "      <td>1</td>\n",
       "      <td>2</td>\n",
       "      <td>2</td>\n",
       "      <td>0</td>\n",
       "      <td>231</td>\n",
       "      <td>1</td>\n",
       "      <td>0</td>\n",
       "      <td>0</td>\n",
       "      <td>139</td>\n",
       "      <td>1</td>\n",
       "      <td>0</td>\n",
       "      <td>0</td>\n",
       "      <td>0</td>\n",
       "    </tr>\n",
       "    <tr>\n",
       "      <th>4</th>\n",
       "      <td>28</td>\n",
       "      <td>1</td>\n",
       "      <td>1</td>\n",
       "      <td>2</td>\n",
       "      <td>0</td>\n",
       "      <td>447</td>\n",
       "      <td>1</td>\n",
       "      <td>1</td>\n",
       "      <td>0</td>\n",
       "      <td>217</td>\n",
       "      <td>1</td>\n",
       "      <td>0</td>\n",
       "      <td>0</td>\n",
       "      <td>0</td>\n",
       "    </tr>\n",
       "  </tbody>\n",
       "</table>\n",
       "</div>"
      ],
      "text/plain": [
       "   age job marital education  default  balance  housing  loan  contact  \\\n",
       "0   58   1       2         2        0     2143        1     0        0   \n",
       "1   44   0       1         1        0       29        1     0        0   \n",
       "2   33   0       2         1        0        2        1     1        0   \n",
       "3   35   1       2         2        0      231        1     0        0   \n",
       "4   28   1       1         2        0      447        1     1        0   \n",
       "\n",
       "   duration  campaign  previous  poutcome  y  \n",
       "0       261         1         0         0  0  \n",
       "1       151         1         0         0  0  \n",
       "2        76         1         0         0  0  \n",
       "3       139         1         0         0  0  \n",
       "4       217         1         0         0  0  "
      ]
     },
     "execution_count": 39,
     "metadata": {},
     "output_type": "execute_result"
    }
   ],
   "source": [
    "df.head()"
   ]
  },
  {
   "cell_type": "code",
   "execution_count": 40,
   "id": "bd5c367c",
   "metadata": {},
   "outputs": [],
   "source": [
    "df.job = df.job.astype('int64')\n",
    "df.education = df.education.astype('int64')\n",
    "df.marital = df.marital.astype('int64')"
   ]
  },
  {
   "cell_type": "code",
   "execution_count": 41,
   "id": "46fe877a",
   "metadata": {},
   "outputs": [
    {
     "name": "stdout",
     "output_type": "stream",
     "text": [
      "<class 'pandas.core.frame.DataFrame'>\n",
      "RangeIndex: 34727 entries, 0 to 34726\n",
      "Data columns (total 14 columns):\n",
      " #   Column     Non-Null Count  Dtype\n",
      "---  ------     --------------  -----\n",
      " 0   age        34727 non-null  int64\n",
      " 1   job        34727 non-null  int64\n",
      " 2   marital    34727 non-null  int64\n",
      " 3   education  34727 non-null  int64\n",
      " 4   default    34727 non-null  int64\n",
      " 5   balance    34727 non-null  int64\n",
      " 6   housing    34727 non-null  int64\n",
      " 7   loan       34727 non-null  int64\n",
      " 8   contact    34727 non-null  int64\n",
      " 9   duration   34727 non-null  int64\n",
      " 10  campaign   34727 non-null  int64\n",
      " 11  previous   34727 non-null  int64\n",
      " 12  poutcome   34727 non-null  int64\n",
      " 13  y          34727 non-null  int64\n",
      "dtypes: int64(14)\n",
      "memory usage: 3.7 MB\n"
     ]
    }
   ],
   "source": [
    "df.info()"
   ]
  },
  {
   "cell_type": "code",
   "execution_count": 42,
   "id": "69187258",
   "metadata": {},
   "outputs": [],
   "source": [
    "from sklearn.model_selection import train_test_split\n",
    "import numpy as np"
   ]
  },
  {
   "cell_type": "code",
   "execution_count": 43,
   "id": "ad4439be",
   "metadata": {},
   "outputs": [],
   "source": [
    "X = df.iloc[:, :13]\n",
    "y = df.iloc[:,13]\n",
    "X_train, X_test, y_train, y_test = train_test_split(X, y,\n",
    "                            test_size=0.3,\n",
    "                            random_state=2)"
   ]
  },
  {
   "cell_type": "code",
   "execution_count": 47,
   "id": "5f2f5beb",
   "metadata": {},
   "outputs": [
    {
     "name": "stdout",
     "output_type": "stream",
     "text": [
      "In-sample Classification Error: 7.489999999999999 %\n",
      "In-sample Classification Count: 22293 210 1610 195\n",
      "Out-of-sample Classification Error: 7.4399999999999995 %\n",
      "Out-of-sample Classification Count: 9573 91 684 71\n"
     ]
    },
    {
     "name": "stderr",
     "output_type": "stream",
     "text": [
      "/Applications/python-anaconda/install/anaconda3/lib/python3.8/site-packages/sklearn/linear_model/_logistic.py:763: ConvergenceWarning: lbfgs failed to converge (status=1):\n",
      "STOP: TOTAL NO. of ITERATIONS REACHED LIMIT.\n",
      "\n",
      "Increase the number of iterations (max_iter) or scale the data as shown in:\n",
      "    https://scikit-learn.org/stable/modules/preprocessing.html\n",
      "Please also refer to the documentation for alternative solver options:\n",
      "    https://scikit-learn.org/stable/modules/linear_model.html#logistic-regression\n",
      "  n_iter_i = _check_optimize_result(\n"
     ]
    }
   ],
   "source": [
    "# Logistic Regression\n",
    "from sklearn.linear_model import LogisticRegression\n",
    "from sklearn.metrics import confusion_matrix\n",
    "\n",
    "model = LogisticRegression(penalty='l2')\n",
    "model.fit(X_train, y_train)\n",
    "\n",
    "tn, fp, fn, tp = confusion_matrix(y_train, model.predict(X_train)).ravel()\n",
    "print('In-sample Classification Error:', round((fp+fn)/(tn+fp+fn+tp),4)*100, '%')\n",
    "print('In-sample Classification Count:', tn, fp, fn, tp)\n",
    "\n",
    "tn, fp, fn, tp = confusion_matrix(y_test, model.predict(X_test)).ravel()\n",
    "print('Out-of-sample Classification Error:', round((fp+fn)/(tn+fp+fn+tp),4)*100, '%')\n",
    "print('Out-of-sample Classification Count:', tn, fp, fn, tp)"
   ]
  },
  {
   "cell_type": "code",
   "execution_count": 48,
   "id": "e59e4c51",
   "metadata": {},
   "outputs": [
    {
     "name": "stdout",
     "output_type": "stream",
     "text": [
      "In-sample Classification Error: 6.239999999999999 %\n",
      "In-sample Classification Count: 22431 72 1445 360\n",
      "Out-of-sample Classification Error: 6.41 %\n",
      "Out-of-sample Classification Count: 9625 39 629 126\n"
     ]
    }
   ],
   "source": [
    "# Random Forest\n",
    "from sklearn.ensemble import RandomForestClassifier\n",
    "\n",
    "model = RandomForestClassifier(n_estimators=50, max_depth=7)\n",
    "\n",
    "model.fit(X_train, y_train)\n",
    "\n",
    "tn, fp, fn, tp = confusion_matrix(y_train, model.predict(X_train)).ravel()\n",
    "print('In-sample Classification Error:', round((fp+fn)/(tn+fp+fn+tp),4)*100, '%')\n",
    "print('In-sample Classification Count:', tn, fp, fn, tp)\n",
    "\n",
    "tn, fp, fn, tp = confusion_matrix(y_test, model.predict(X_test)).ravel()\n",
    "print('Out-of-sample Classification Error:', round((fp+fn)/(tn+fp+fn+tp),4)*100, '%')\n",
    "print('Out-of-sample Classification Count:', tn, fp, fn, tp)"
   ]
  },
  {
   "cell_type": "code",
   "execution_count": 49,
   "id": "80f3d39e",
   "metadata": {},
   "outputs": [
    {
     "name": "stdout",
     "output_type": "stream",
     "text": [
      "In-sample Classification Error: 7.51 %\n",
      "In-sample Classification Count: 22181 322 1504 301\n",
      "Out-of-sample Classification Error: 7.449999999999999 %\n",
      "Out-of-sample Classification Count: 9533 131 645 110\n"
     ]
    }
   ],
   "source": [
    "# LDA\n",
    "from sklearn.discriminant_analysis import LinearDiscriminantAnalysis\n",
    "\n",
    "model = LinearDiscriminantAnalysis()\n",
    "\n",
    "model.fit(X_train, y_train)\n",
    "\n",
    "tn, fp, fn, tp = confusion_matrix(y_train, model.predict(X_train)).ravel()\n",
    "print('In-sample Classification Error:', round((fp+fn)/(tn+fp+fn+tp),4)*100, '%')\n",
    "print('In-sample Classification Count:', tn, fp, fn, tp)\n",
    "\n",
    "tn, fp, fn, tp = confusion_matrix(y_test, model.predict(X_test)).ravel()\n",
    "print('Out-of-sample Classification Error:', round((fp+fn)/(tn+fp+fn+tp),4)*100, '%')\n",
    "print('Out-of-sample Classification Count:', tn, fp, fn, tp)"
   ]
  },
  {
   "cell_type": "code",
   "execution_count": 50,
   "id": "81c62bbc",
   "metadata": {},
   "outputs": [
    {
     "name": "stdout",
     "output_type": "stream",
     "text": [
      "In-sample Classification Error: 6.29 %\n",
      "In-sample Classification Count: 22297 206 1324 481\n",
      "Out-of-sample Classification Error: 6.38 %\n",
      "Out-of-sample Classification Count: 9564 100 565 190\n"
     ]
    }
   ],
   "source": [
    "# Decision Tree\n",
    "from sklearn.tree import DecisionTreeClassifier\n",
    "\n",
    "model = DecisionTreeClassifier(criterion='entropy',max_depth=4)\n",
    "\n",
    "model.fit(X_train, y_train)\n",
    "\n",
    "tn, fp, fn, tp = confusion_matrix(y_train, model.predict(X_train)).ravel()\n",
    "print('In-sample Classification Error:', round((fp+fn)/(tn+fp+fn+tp),4)*100, '%')\n",
    "print('In-sample Classification Count:', tn, fp, fn, tp)\n",
    "\n",
    "tn, fp, fn, tp = confusion_matrix(y_test, model.predict(X_test)).ravel()\n",
    "print('Out-of-sample Classification Error:', round((fp+fn)/(tn+fp+fn+tp),4)*100, '%')\n",
    "print('Out-of-sample Classification Count:', tn, fp, fn, tp)"
   ]
  },
  {
   "cell_type": "code",
   "execution_count": 51,
   "id": "e6483607",
   "metadata": {},
   "outputs": [
    {
     "name": "stdout",
     "output_type": "stream",
     "text": [
      "In-sample Classification Error: 6.77 %\n",
      "In-sample Classification Count: 22282 221 1425 380\n",
      "Out-of-sample Classification Error: 6.800000000000001 %\n",
      "Out-of-sample Classification Count: 9557 107 602 153\n"
     ]
    }
   ],
   "source": [
    "# Boosting methods\n",
    "from sklearn.ensemble import AdaBoostClassifier\n",
    "\n",
    "model = AdaBoostClassifier(learning_rate=0.65,n_estimators=100)\n",
    "\n",
    "model.fit(X_train, y_train)\n",
    "\n",
    "tn, fp, fn, tp = confusion_matrix(y_train, model.predict(X_train)).ravel()\n",
    "print('In-sample Classification Error:', round((fp+fn)/(tn+fp+fn+tp),4)*100, '%')\n",
    "print('In-sample Classification Count:', tn, fp, fn, tp)\n",
    "\n",
    "tn, fp, fn, tp = confusion_matrix(y_test, model.predict(X_test)).ravel()\n",
    "print('Out-of-sample Classification Error:', round((fp+fn)/(tn+fp+fn+tp),4)*100, '%')\n",
    "print('Out-of-sample Classification Count:', tn, fp, fn, tp)"
   ]
  },
  {
   "cell_type": "code",
   "execution_count": 52,
   "id": "4bfdbe6b",
   "metadata": {},
   "outputs": [
    {
     "name": "stdout",
     "output_type": "stream",
     "text": [
      "In-sample Classification Error: 5.87 %\n",
      "In-sample Classification Count: 22303 200 1227 578\n",
      "Out-of-sample Classification Error: 6.4 %\n",
      "Out-of-sample Classification Count: 9540 124 543 212\n"
     ]
    }
   ],
   "source": [
    "from sklearn.ensemble import GradientBoostingClassifier\n",
    "\n",
    "model = GradientBoostingClassifier(n_estimators=150) \n",
    "\n",
    "model.fit(X_train, y_train)\n",
    "\n",
    "tn, fp, fn, tp = confusion_matrix(y_train, model.predict(X_train)).ravel()\n",
    "print('In-sample Classification Error:', round((fp+fn)/(tn+fp+fn+tp),4)*100, '%')\n",
    "print('In-sample Classification Count:', tn, fp, fn, tp)\n",
    "\n",
    "tn, fp, fn, tp = confusion_matrix(y_test, model.predict(X_test)).ravel()\n",
    "print('Out-of-sample Classification Error:', round((fp+fn)/(tn+fp+fn+tp),4)*100, '%')\n",
    "print('Out-of-sample Classification Count:', tn, fp, fn, tp)"
   ]
  },
  {
   "cell_type": "code",
   "execution_count": 53,
   "id": "aae1506e",
   "metadata": {},
   "outputs": [
    {
     "name": "stdout",
     "output_type": "stream",
     "text": [
      "In-sample Classification Error: 7.449999999999999 %\n",
      "In-sample Classification Count: 22274 229 1583 222\n",
      "Out-of-sample Classification Error: 7.5 %\n",
      "Out-of-sample Classification Count: 9564 100 681 74\n"
     ]
    }
   ],
   "source": [
    "# Neural network\n",
    "from sklearn.neural_network import MLPClassifier\n",
    "\n",
    "model = MLPClassifier(max_iter=2000)\n",
    "\n",
    "model.fit(X_train, y_train)\n",
    "\n",
    "tn, fp, fn, tp = confusion_matrix(y_train, model.predict(X_train)).ravel()\n",
    "print('In-sample Classification Error:', round((fp+fn)/(tn+fp+fn+tp),4)*100, '%')\n",
    "print('In-sample Classification Count:', tn, fp, fn, tp)\n",
    "\n",
    "tn, fp, fn, tp = confusion_matrix(y_test, model.predict(X_test)).ravel()\n",
    "print('Out-of-sample Classification Error:', round((fp+fn)/(tn+fp+fn+tp),4)*100, '%')\n",
    "print('Out-of-sample Classification Count:', tn, fp, fn, tp)"
   ]
  },
  {
   "cell_type": "code",
   "execution_count": 54,
   "id": "67fbc4ce",
   "metadata": {},
   "outputs": [
    {
     "name": "stdout",
     "output_type": "stream",
     "text": [
      "age : -0.006262441065390461\n",
      "job : 0.04557929609642366\n",
      "marital : -0.03029426315150697\n",
      "education : 0.09730470557888482\n",
      "default : -0.030768012786176177\n",
      "balance : 0.051353840255327174\n",
      "housing : -0.17092331628218338\n",
      "loan : -0.07657120440813676\n",
      "contact : -0.013045688276455608\n",
      "duration : 0.20868722769736742\n",
      "campaign : -0.0817132096821789\n",
      "previous : 0.11239577683159696\n",
      "poutcome : 0.1283093294811501\n",
      "y : 0.9999999999999768\n"
     ]
    }
   ],
   "source": [
    "from scipy.stats import pearsonr\n",
    "for i in range(len(df.columns)):\n",
    "    print(df.columns[i],':',pearsonr(df.iloc[:,i],df['y'])[0])"
   ]
  },
  {
   "cell_type": "code",
   "execution_count": 55,
   "id": "4c78c6f1",
   "metadata": {},
   "outputs": [],
   "source": [
    "df_sub_1 = df[['job','education','balance','housing','loan','duration','campaign','previous','poutcome','y']]"
   ]
  },
  {
   "cell_type": "code",
   "execution_count": 56,
   "id": "990b67c5",
   "metadata": {},
   "outputs": [],
   "source": [
    "X = df_sub_1.iloc[:, :9]\n",
    "y = df_sub_1.iloc[:,9]\n",
    "X_train, X_test, y_train, y_test = train_test_split(X, y,\n",
    "                            test_size=0.3,\n",
    "                            random_state=2)"
   ]
  },
  {
   "cell_type": "code",
   "execution_count": 57,
   "id": "009c41ad",
   "metadata": {},
   "outputs": [
    {
     "name": "stdout",
     "output_type": "stream",
     "text": [
      "In-sample Classification Error: 6.18 %\n",
      "In-sample Classification Count: 22387 116 1387 418\n",
      "Out-of-sample Classification Error: 6.3100000000000005 %\n",
      "Out-of-sample Classification Count: 9609 55 602 153\n"
     ]
    }
   ],
   "source": [
    "# Random Forest\n",
    "from sklearn.ensemble import RandomForestClassifier\n",
    "\n",
    "model = RandomForestClassifier(n_estimators=50, max_depth=7)\n",
    "\n",
    "model.fit(X_train, y_train)\n",
    "\n",
    "tn, fp, fn, tp = confusion_matrix(y_train, model.predict(X_train)).ravel()\n",
    "print('In-sample Classification Error:', round((fp+fn)/(tn+fp+fn+tp),4)*100, '%')\n",
    "print('In-sample Classification Count:', tn, fp, fn, tp)\n",
    "\n",
    "tn, fp, fn, tp = confusion_matrix(y_test, model.predict(X_test)).ravel()\n",
    "print('Out-of-sample Classification Error:', round((fp+fn)/(tn+fp+fn+tp),4)*100, '%')\n",
    "print('Out-of-sample Classification Count:', tn, fp, fn, tp)"
   ]
  },
  {
   "cell_type": "code",
   "execution_count": 58,
   "id": "351888da",
   "metadata": {},
   "outputs": [
    {
     "name": "stdout",
     "output_type": "stream",
     "text": [
      "In-sample Classification Error: 6.34 %\n",
      "In-sample Classification Count: 22357 146 1394 411\n",
      "Out-of-sample Classification Error: 6.25 %\n",
      "Out-of-sample Classification Count: 9602 62 589 166\n"
     ]
    }
   ],
   "source": [
    "# Decision Tree\n",
    "from sklearn.tree import DecisionTreeClassifier\n",
    "\n",
    "model = DecisionTreeClassifier(criterion='entropy',max_depth=4)\n",
    "\n",
    "model.fit(X_train, y_train)\n",
    "\n",
    "tn, fp, fn, tp = confusion_matrix(y_train, model.predict(X_train)).ravel()\n",
    "print('In-sample Classification Error:', round((fp+fn)/(tn+fp+fn+tp),4)*100, '%')\n",
    "print('In-sample Classification Count:', tn, fp, fn, tp)\n",
    "\n",
    "tn, fp, fn, tp = confusion_matrix(y_test, model.predict(X_test)).ravel()\n",
    "print('Out-of-sample Classification Error:', round((fp+fn)/(tn+fp+fn+tp),4)*100, '%')\n",
    "print('Out-of-sample Classification Count:', tn, fp, fn, tp)"
   ]
  },
  {
   "cell_type": "code",
   "execution_count": 59,
   "id": "d25716c6",
   "metadata": {},
   "outputs": [
    {
     "name": "stdout",
     "output_type": "stream",
     "text": [
      "In-sample Classification Error: 6.04 %\n",
      "In-sample Classification Count: 22335 168 1300 505\n",
      "Out-of-sample Classification Error: 6.41 %\n",
      "Out-of-sample Classification Count: 9573 91 577 178\n"
     ]
    }
   ],
   "source": [
    "from sklearn.ensemble import GradientBoostingClassifier\n",
    "\n",
    "model = GradientBoostingClassifier(n_estimators=150) \n",
    "\n",
    "model.fit(X_train, y_train)\n",
    "\n",
    "tn, fp, fn, tp = confusion_matrix(y_train, model.predict(X_train)).ravel()\n",
    "print('In-sample Classification Error:', round((fp+fn)/(tn+fp+fn+tp),4)*100, '%')\n",
    "print('In-sample Classification Count:', tn, fp, fn, tp)\n",
    "\n",
    "tn, fp, fn, tp = confusion_matrix(y_test, model.predict(X_test)).ravel()\n",
    "print('Out-of-sample Classification Error:', round((fp+fn)/(tn+fp+fn+tp),4)*100, '%')\n",
    "print('Out-of-sample Classification Count:', tn, fp, fn, tp)"
   ]
  },
  {
   "cell_type": "code",
   "execution_count": 60,
   "id": "be7546cc",
   "metadata": {},
   "outputs": [],
   "source": [
    "df_sub_2 = df[['housing','duration','campaign','previous','poutcome','y']]"
   ]
  },
  {
   "cell_type": "code",
   "execution_count": 61,
   "id": "d8692d03",
   "metadata": {},
   "outputs": [],
   "source": [
    "X = df_sub_2.iloc[:, :5]\n",
    "y = df_sub_2.iloc[:,5]\n",
    "X_train, X_test, y_train, y_test = train_test_split(X, y,\n",
    "                            test_size=0.3,\n",
    "                            random_state=2)"
   ]
  },
  {
   "cell_type": "code",
   "execution_count": 62,
   "id": "b4f24dd9",
   "metadata": {},
   "outputs": [
    {
     "name": "stdout",
     "output_type": "stream",
     "text": [
      "In-sample Classification Error: 6.140000000000001 %\n",
      "In-sample Classification Count: 22378 125 1367 438\n",
      "Out-of-sample Classification Error: 6.38 %\n",
      "Out-of-sample Classification Count: 9598 66 599 156\n"
     ]
    }
   ],
   "source": [
    "# Random Forest\n",
    "from sklearn.ensemble import RandomForestClassifier\n",
    "\n",
    "model = RandomForestClassifier(n_estimators=50, max_depth=7)\n",
    "\n",
    "model.fit(X_train, y_train)\n",
    "\n",
    "tn, fp, fn, tp = confusion_matrix(y_train, model.predict(X_train)).ravel()\n",
    "print('In-sample Classification Error:', round((fp+fn)/(tn+fp+fn+tp),4)*100, '%')\n",
    "print('In-sample Classification Count:', tn, fp, fn, tp)\n",
    "\n",
    "tn, fp, fn, tp = confusion_matrix(y_test, model.predict(X_test)).ravel()\n",
    "print('Out-of-sample Classification Error:', round((fp+fn)/(tn+fp+fn+tp),4)*100, '%')\n",
    "print('Out-of-sample Classification Count:', tn, fp, fn, tp)"
   ]
  },
  {
   "cell_type": "code",
   "execution_count": 63,
   "id": "2bc1511a",
   "metadata": {},
   "outputs": [
    {
     "name": "stdout",
     "output_type": "stream",
     "text": [
      "In-sample Classification Error: 6.34 %\n",
      "In-sample Classification Count: 22357 146 1394 411\n",
      "Out-of-sample Classification Error: 6.25 %\n",
      "Out-of-sample Classification Count: 9602 62 589 166\n"
     ]
    }
   ],
   "source": [
    "# Decision Tree\n",
    "from sklearn.tree import DecisionTreeClassifier\n",
    "\n",
    "model = DecisionTreeClassifier(criterion='entropy',max_depth=4)\n",
    "\n",
    "model.fit(X_train, y_train)\n",
    "\n",
    "tn, fp, fn, tp = confusion_matrix(y_train, model.predict(X_train)).ravel()\n",
    "print('In-sample Classification Error:', round((fp+fn)/(tn+fp+fn+tp),4)*100, '%')\n",
    "print('In-sample Classification Count:', tn, fp, fn, tp)\n",
    "\n",
    "tn, fp, fn, tp = confusion_matrix(y_test, model.predict(X_test)).ravel()\n",
    "print('Out-of-sample Classification Error:', round((fp+fn)/(tn+fp+fn+tp),4)*100, '%')\n",
    "print('Out-of-sample Classification Count:', tn, fp, fn, tp)"
   ]
  },
  {
   "cell_type": "code",
   "execution_count": 64,
   "id": "f58615b7",
   "metadata": {},
   "outputs": [
    {
     "name": "stdout",
     "output_type": "stream",
     "text": [
      "In-sample Classification Error: 6.15 %\n",
      "In-sample Classification Count: 22359 144 1351 454\n",
      "Out-of-sample Classification Error: 6.35 %\n",
      "Out-of-sample Classification Count: 9586 78 584 171\n"
     ]
    }
   ],
   "source": [
    "from sklearn.ensemble import GradientBoostingClassifier\n",
    "\n",
    "model = GradientBoostingClassifier(n_estimators=150) \n",
    "\n",
    "model.fit(X_train, y_train)\n",
    "\n",
    "tn, fp, fn, tp = confusion_matrix(y_train, model.predict(X_train)).ravel()\n",
    "print('In-sample Classification Error:', round((fp+fn)/(tn+fp+fn+tp),4)*100, '%')\n",
    "print('In-sample Classification Count:', tn, fp, fn, tp)\n",
    "\n",
    "tn, fp, fn, tp = confusion_matrix(y_test, model.predict(X_test)).ravel()\n",
    "print('Out-of-sample Classification Error:', round((fp+fn)/(tn+fp+fn+tp),4)*100, '%')\n",
    "print('Out-of-sample Classification Count:', tn, fp, fn, tp)"
   ]
  }
 ],
 "metadata": {
  "kernelspec": {
   "display_name": "Python 3.8.8 64-bit ('base': conda)",
   "language": "python",
   "name": "python388jvsc74a57bd0b75e249e69e4215cf9a5a2ffe508258e95751d4faf7beb0ecc9dfc6d5e38827b"
  },
  "language_info": {
   "codemirror_mode": {
    "name": "ipython",
    "version": 3
   },
   "file_extension": ".py",
   "mimetype": "text/x-python",
   "name": "python",
   "nbconvert_exporter": "python",
   "pygments_lexer": "ipython3",
   "version": "3.8.8"
  }
 },
 "nbformat": 4,
 "nbformat_minor": 5
}
