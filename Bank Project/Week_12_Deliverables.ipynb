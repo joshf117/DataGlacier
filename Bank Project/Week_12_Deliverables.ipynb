{
 "cells": [
  {
   "cell_type": "markdown",
   "id": "b492ff06",
   "metadata": {},
   "source": [
    "**1 - data preprocessing**"
   ]
  },
  {
   "cell_type": "code",
   "execution_count": 1,
   "id": "f4ccea39",
   "metadata": {},
   "outputs": [],
   "source": [
    "import pandas as pd"
   ]
  },
  {
   "cell_type": "code",
   "execution_count": 2,
   "id": "d7cd4402",
   "metadata": {},
   "outputs": [],
   "source": [
    "df = pd.read_csv('df_clean.csv',index_col=0).reset_index()"
   ]
  },
  {
   "cell_type": "code",
   "execution_count": 3,
   "id": "def487d9",
   "metadata": {},
   "outputs": [
    {
     "data": {
      "text/html": [
       "<div>\n",
       "<style scoped>\n",
       "    .dataframe tbody tr th:only-of-type {\n",
       "        vertical-align: middle;\n",
       "    }\n",
       "\n",
       "    .dataframe tbody tr th {\n",
       "        vertical-align: top;\n",
       "    }\n",
       "\n",
       "    .dataframe thead th {\n",
       "        text-align: right;\n",
       "    }\n",
       "</style>\n",
       "<table border=\"1\" class=\"dataframe\">\n",
       "  <thead>\n",
       "    <tr style=\"text-align: right;\">\n",
       "      <th></th>\n",
       "      <th>age</th>\n",
       "      <th>job</th>\n",
       "      <th>marital</th>\n",
       "      <th>education</th>\n",
       "      <th>default</th>\n",
       "      <th>balance</th>\n",
       "      <th>housing</th>\n",
       "      <th>loan</th>\n",
       "      <th>contact</th>\n",
       "      <th>duration</th>\n",
       "      <th>campaign</th>\n",
       "      <th>previous</th>\n",
       "      <th>poutcome</th>\n",
       "      <th>y</th>\n",
       "    </tr>\n",
       "  </thead>\n",
       "  <tbody>\n",
       "    <tr>\n",
       "      <th>0</th>\n",
       "      <td>58</td>\n",
       "      <td>management</td>\n",
       "      <td>married</td>\n",
       "      <td>tertiary</td>\n",
       "      <td>no</td>\n",
       "      <td>2143</td>\n",
       "      <td>yes</td>\n",
       "      <td>no</td>\n",
       "      <td>cellular</td>\n",
       "      <td>261</td>\n",
       "      <td>1</td>\n",
       "      <td>0</td>\n",
       "      <td>failure</td>\n",
       "      <td>no</td>\n",
       "    </tr>\n",
       "    <tr>\n",
       "      <th>1</th>\n",
       "      <td>44</td>\n",
       "      <td>technician</td>\n",
       "      <td>single</td>\n",
       "      <td>secondary</td>\n",
       "      <td>no</td>\n",
       "      <td>29</td>\n",
       "      <td>yes</td>\n",
       "      <td>no</td>\n",
       "      <td>cellular</td>\n",
       "      <td>151</td>\n",
       "      <td>1</td>\n",
       "      <td>0</td>\n",
       "      <td>failure</td>\n",
       "      <td>no</td>\n",
       "    </tr>\n",
       "    <tr>\n",
       "      <th>2</th>\n",
       "      <td>33</td>\n",
       "      <td>entrepreneur</td>\n",
       "      <td>married</td>\n",
       "      <td>secondary</td>\n",
       "      <td>no</td>\n",
       "      <td>2</td>\n",
       "      <td>yes</td>\n",
       "      <td>yes</td>\n",
       "      <td>cellular</td>\n",
       "      <td>76</td>\n",
       "      <td>1</td>\n",
       "      <td>0</td>\n",
       "      <td>failure</td>\n",
       "      <td>no</td>\n",
       "    </tr>\n",
       "    <tr>\n",
       "      <th>3</th>\n",
       "      <td>35</td>\n",
       "      <td>management</td>\n",
       "      <td>married</td>\n",
       "      <td>tertiary</td>\n",
       "      <td>no</td>\n",
       "      <td>231</td>\n",
       "      <td>yes</td>\n",
       "      <td>no</td>\n",
       "      <td>cellular</td>\n",
       "      <td>139</td>\n",
       "      <td>1</td>\n",
       "      <td>0</td>\n",
       "      <td>other</td>\n",
       "      <td>no</td>\n",
       "    </tr>\n",
       "    <tr>\n",
       "      <th>4</th>\n",
       "      <td>28</td>\n",
       "      <td>management</td>\n",
       "      <td>single</td>\n",
       "      <td>tertiary</td>\n",
       "      <td>no</td>\n",
       "      <td>447</td>\n",
       "      <td>yes</td>\n",
       "      <td>yes</td>\n",
       "      <td>cellular</td>\n",
       "      <td>217</td>\n",
       "      <td>1</td>\n",
       "      <td>0</td>\n",
       "      <td>failure</td>\n",
       "      <td>no</td>\n",
       "    </tr>\n",
       "  </tbody>\n",
       "</table>\n",
       "</div>"
      ],
      "text/plain": [
       "   age           job  marital  education default  balance housing loan  \\\n",
       "0   58    management  married   tertiary      no     2143     yes   no   \n",
       "1   44    technician   single  secondary      no       29     yes   no   \n",
       "2   33  entrepreneur  married  secondary      no        2     yes  yes   \n",
       "3   35    management  married   tertiary      no      231     yes   no   \n",
       "4   28    management   single   tertiary      no      447     yes  yes   \n",
       "\n",
       "    contact  duration  campaign  previous poutcome   y  \n",
       "0  cellular       261         1         0  failure  no  \n",
       "1  cellular       151         1         0  failure  no  \n",
       "2  cellular        76         1         0  failure  no  \n",
       "3  cellular       139         1         0    other  no  \n",
       "4  cellular       217         1         0  failure  no  "
      ]
     },
     "execution_count": 3,
     "metadata": {},
     "output_type": "execute_result"
    }
   ],
   "source": [
    "df.drop(labels=['day','month','index','pdays'],axis=1,inplace=True)\n",
    "df.head()"
   ]
  },
  {
   "cell_type": "code",
   "execution_count": 4,
   "id": "d6be8def",
   "metadata": {},
   "outputs": [
    {
     "data": {
      "text/plain": [
       "age           int64\n",
       "job          object\n",
       "marital      object\n",
       "education    object\n",
       "default      object\n",
       "balance       int64\n",
       "housing      object\n",
       "loan         object\n",
       "contact      object\n",
       "duration      int64\n",
       "campaign      int64\n",
       "previous      int64\n",
       "poutcome     object\n",
       "y            object\n",
       "dtype: object"
      ]
     },
     "execution_count": 4,
     "metadata": {},
     "output_type": "execute_result"
    }
   ],
   "source": [
    "df.dtypes"
   ]
  },
  {
   "cell_type": "code",
   "execution_count": 5,
   "id": "225a0261",
   "metadata": {},
   "outputs": [],
   "source": [
    "#change categorical values into numerical values\n",
    "df = df.replace('no',0)\n",
    "df = df.replace('yes',1)\n",
    "\n",
    "df = df.replace('cellular',0)\n",
    "df = df.replace('telephone',1)\n",
    "\n",
    "df = df.replace('success',1)\n",
    "df = df.replace('failure',0)\n",
    "df = df.replace('other',0)"
   ]
  },
  {
   "cell_type": "code",
   "execution_count": 6,
   "id": "b42c12d2",
   "metadata": {},
   "outputs": [],
   "source": [
    "for i in range(len(df)):\n",
    "    if df.loc[i,'job'] == 'management':\n",
    "        df.loc[i,'job'] = 1\n",
    "    else:\n",
    "        df.loc[i,'job'] = 0"
   ]
  },
  {
   "cell_type": "code",
   "execution_count": 7,
   "id": "1c7a3326",
   "metadata": {},
   "outputs": [],
   "source": [
    "for i in range(len(df)):\n",
    "    if df.loc[i,'marital'] == 'married':\n",
    "        df.loc[i,'marital'] = 2\n",
    "    elif df.loc[i,'marital'] == 'single':\n",
    "        df.loc[i,'marital'] = 1\n",
    "    else:\n",
    "        df.loc[i,'marital'] = 0"
   ]
  },
  {
   "cell_type": "code",
   "execution_count": 8,
   "id": "76353c54",
   "metadata": {},
   "outputs": [],
   "source": [
    "for i in range(len(df)):\n",
    "    if df.loc[i,'education'] == 'tertiary':\n",
    "        df.loc[i,'education'] = 2\n",
    "    elif df.loc[i,'education'] == 'secondary':\n",
    "        df.loc[i,'education'] = 1\n",
    "    else:\n",
    "        df.loc[i,'education'] = 0"
   ]
  },
  {
   "cell_type": "code",
   "execution_count": 9,
   "id": "6259444a",
   "metadata": {},
   "outputs": [
    {
     "data": {
      "text/html": [
       "<div>\n",
       "<style scoped>\n",
       "    .dataframe tbody tr th:only-of-type {\n",
       "        vertical-align: middle;\n",
       "    }\n",
       "\n",
       "    .dataframe tbody tr th {\n",
       "        vertical-align: top;\n",
       "    }\n",
       "\n",
       "    .dataframe thead th {\n",
       "        text-align: right;\n",
       "    }\n",
       "</style>\n",
       "<table border=\"1\" class=\"dataframe\">\n",
       "  <thead>\n",
       "    <tr style=\"text-align: right;\">\n",
       "      <th></th>\n",
       "      <th>age</th>\n",
       "      <th>job</th>\n",
       "      <th>marital</th>\n",
       "      <th>education</th>\n",
       "      <th>default</th>\n",
       "      <th>balance</th>\n",
       "      <th>housing</th>\n",
       "      <th>loan</th>\n",
       "      <th>contact</th>\n",
       "      <th>duration</th>\n",
       "      <th>campaign</th>\n",
       "      <th>previous</th>\n",
       "      <th>poutcome</th>\n",
       "      <th>y</th>\n",
       "    </tr>\n",
       "  </thead>\n",
       "  <tbody>\n",
       "    <tr>\n",
       "      <th>0</th>\n",
       "      <td>58</td>\n",
       "      <td>1</td>\n",
       "      <td>2</td>\n",
       "      <td>2</td>\n",
       "      <td>0</td>\n",
       "      <td>2143</td>\n",
       "      <td>1</td>\n",
       "      <td>0</td>\n",
       "      <td>0</td>\n",
       "      <td>261</td>\n",
       "      <td>1</td>\n",
       "      <td>0</td>\n",
       "      <td>0</td>\n",
       "      <td>0</td>\n",
       "    </tr>\n",
       "    <tr>\n",
       "      <th>1</th>\n",
       "      <td>44</td>\n",
       "      <td>0</td>\n",
       "      <td>1</td>\n",
       "      <td>1</td>\n",
       "      <td>0</td>\n",
       "      <td>29</td>\n",
       "      <td>1</td>\n",
       "      <td>0</td>\n",
       "      <td>0</td>\n",
       "      <td>151</td>\n",
       "      <td>1</td>\n",
       "      <td>0</td>\n",
       "      <td>0</td>\n",
       "      <td>0</td>\n",
       "    </tr>\n",
       "    <tr>\n",
       "      <th>2</th>\n",
       "      <td>33</td>\n",
       "      <td>0</td>\n",
       "      <td>2</td>\n",
       "      <td>1</td>\n",
       "      <td>0</td>\n",
       "      <td>2</td>\n",
       "      <td>1</td>\n",
       "      <td>1</td>\n",
       "      <td>0</td>\n",
       "      <td>76</td>\n",
       "      <td>1</td>\n",
       "      <td>0</td>\n",
       "      <td>0</td>\n",
       "      <td>0</td>\n",
       "    </tr>\n",
       "    <tr>\n",
       "      <th>3</th>\n",
       "      <td>35</td>\n",
       "      <td>1</td>\n",
       "      <td>2</td>\n",
       "      <td>2</td>\n",
       "      <td>0</td>\n",
       "      <td>231</td>\n",
       "      <td>1</td>\n",
       "      <td>0</td>\n",
       "      <td>0</td>\n",
       "      <td>139</td>\n",
       "      <td>1</td>\n",
       "      <td>0</td>\n",
       "      <td>0</td>\n",
       "      <td>0</td>\n",
       "    </tr>\n",
       "    <tr>\n",
       "      <th>4</th>\n",
       "      <td>28</td>\n",
       "      <td>1</td>\n",
       "      <td>1</td>\n",
       "      <td>2</td>\n",
       "      <td>0</td>\n",
       "      <td>447</td>\n",
       "      <td>1</td>\n",
       "      <td>1</td>\n",
       "      <td>0</td>\n",
       "      <td>217</td>\n",
       "      <td>1</td>\n",
       "      <td>0</td>\n",
       "      <td>0</td>\n",
       "      <td>0</td>\n",
       "    </tr>\n",
       "  </tbody>\n",
       "</table>\n",
       "</div>"
      ],
      "text/plain": [
       "   age job marital education  default  balance  housing  loan  contact  \\\n",
       "0   58   1       2         2        0     2143        1     0        0   \n",
       "1   44   0       1         1        0       29        1     0        0   \n",
       "2   33   0       2         1        0        2        1     1        0   \n",
       "3   35   1       2         2        0      231        1     0        0   \n",
       "4   28   1       1         2        0      447        1     1        0   \n",
       "\n",
       "   duration  campaign  previous  poutcome  y  \n",
       "0       261         1         0         0  0  \n",
       "1       151         1         0         0  0  \n",
       "2        76         1         0         0  0  \n",
       "3       139         1         0         0  0  \n",
       "4       217         1         0         0  0  "
      ]
     },
     "execution_count": 9,
     "metadata": {},
     "output_type": "execute_result"
    }
   ],
   "source": [
    "df.head()"
   ]
  },
  {
   "cell_type": "code",
   "execution_count": 10,
   "id": "0765dff6",
   "metadata": {},
   "outputs": [],
   "source": [
    "df.job = df.job.astype('int64')\n",
    "df.education = df.education.astype('int64')\n",
    "df.marital = df.marital.astype('int64')"
   ]
  },
  {
   "cell_type": "code",
   "execution_count": 11,
   "id": "6f46228e",
   "metadata": {},
   "outputs": [
    {
     "data": {
      "text/html": [
       "<div>\n",
       "<style scoped>\n",
       "    .dataframe tbody tr th:only-of-type {\n",
       "        vertical-align: middle;\n",
       "    }\n",
       "\n",
       "    .dataframe tbody tr th {\n",
       "        vertical-align: top;\n",
       "    }\n",
       "\n",
       "    .dataframe thead th {\n",
       "        text-align: right;\n",
       "    }\n",
       "</style>\n",
       "<table border=\"1\" class=\"dataframe\">\n",
       "  <thead>\n",
       "    <tr style=\"text-align: right;\">\n",
       "      <th></th>\n",
       "      <th>age</th>\n",
       "      <th>job</th>\n",
       "      <th>marital</th>\n",
       "      <th>education</th>\n",
       "      <th>default</th>\n",
       "      <th>balance</th>\n",
       "      <th>housing</th>\n",
       "      <th>loan</th>\n",
       "      <th>contact</th>\n",
       "      <th>duration</th>\n",
       "      <th>campaign</th>\n",
       "      <th>previous</th>\n",
       "      <th>poutcome</th>\n",
       "      <th>y</th>\n",
       "    </tr>\n",
       "  </thead>\n",
       "  <tbody>\n",
       "    <tr>\n",
       "      <th>count</th>\n",
       "      <td>34727.00</td>\n",
       "      <td>34727.00</td>\n",
       "      <td>34727.00</td>\n",
       "      <td>34727.00</td>\n",
       "      <td>34727.00</td>\n",
       "      <td>34727.00</td>\n",
       "      <td>34727.00</td>\n",
       "      <td>34727.00</td>\n",
       "      <td>34727.00</td>\n",
       "      <td>34727.00</td>\n",
       "      <td>34727.00</td>\n",
       "      <td>34727.0</td>\n",
       "      <td>34727.00</td>\n",
       "      <td>34727.00</td>\n",
       "    </tr>\n",
       "    <tr>\n",
       "      <th>mean</th>\n",
       "      <td>40.42</td>\n",
       "      <td>0.21</td>\n",
       "      <td>1.49</td>\n",
       "      <td>1.15</td>\n",
       "      <td>0.02</td>\n",
       "      <td>1323.33</td>\n",
       "      <td>0.57</td>\n",
       "      <td>0.17</td>\n",
       "      <td>0.08</td>\n",
       "      <td>184.93</td>\n",
       "      <td>2.14</td>\n",
       "      <td>0.6</td>\n",
       "      <td>0.19</td>\n",
       "      <td>0.07</td>\n",
       "    </tr>\n",
       "    <tr>\n",
       "      <th>std</th>\n",
       "      <td>9.92</td>\n",
       "      <td>0.41</td>\n",
       "      <td>0.69</td>\n",
       "      <td>0.66</td>\n",
       "      <td>0.13</td>\n",
       "      <td>3004.05</td>\n",
       "      <td>0.50</td>\n",
       "      <td>0.37</td>\n",
       "      <td>0.28</td>\n",
       "      <td>110.85</td>\n",
       "      <td>1.33</td>\n",
       "      <td>2.4</td>\n",
       "      <td>0.39</td>\n",
       "      <td>0.26</td>\n",
       "    </tr>\n",
       "    <tr>\n",
       "      <th>min</th>\n",
       "      <td>18.00</td>\n",
       "      <td>0.00</td>\n",
       "      <td>0.00</td>\n",
       "      <td>0.00</td>\n",
       "      <td>0.00</td>\n",
       "      <td>-8019.00</td>\n",
       "      <td>0.00</td>\n",
       "      <td>0.00</td>\n",
       "      <td>0.00</td>\n",
       "      <td>0.00</td>\n",
       "      <td>1.00</td>\n",
       "      <td>0.0</td>\n",
       "      <td>0.00</td>\n",
       "      <td>0.00</td>\n",
       "    </tr>\n",
       "    <tr>\n",
       "      <th>25%</th>\n",
       "      <td>32.00</td>\n",
       "      <td>0.00</td>\n",
       "      <td>1.00</td>\n",
       "      <td>1.00</td>\n",
       "      <td>0.00</td>\n",
       "      <td>69.00</td>\n",
       "      <td>0.00</td>\n",
       "      <td>0.00</td>\n",
       "      <td>0.00</td>\n",
       "      <td>99.00</td>\n",
       "      <td>1.00</td>\n",
       "      <td>0.0</td>\n",
       "      <td>0.00</td>\n",
       "      <td>0.00</td>\n",
       "    </tr>\n",
       "    <tr>\n",
       "      <th>50%</th>\n",
       "      <td>39.00</td>\n",
       "      <td>0.00</td>\n",
       "      <td>2.00</td>\n",
       "      <td>1.00</td>\n",
       "      <td>0.00</td>\n",
       "      <td>431.00</td>\n",
       "      <td>1.00</td>\n",
       "      <td>0.00</td>\n",
       "      <td>0.00</td>\n",
       "      <td>162.00</td>\n",
       "      <td>2.00</td>\n",
       "      <td>0.0</td>\n",
       "      <td>0.00</td>\n",
       "      <td>0.00</td>\n",
       "    </tr>\n",
       "    <tr>\n",
       "      <th>75%</th>\n",
       "      <td>48.00</td>\n",
       "      <td>0.00</td>\n",
       "      <td>2.00</td>\n",
       "      <td>2.00</td>\n",
       "      <td>0.00</td>\n",
       "      <td>1378.00</td>\n",
       "      <td>1.00</td>\n",
       "      <td>0.00</td>\n",
       "      <td>0.00</td>\n",
       "      <td>254.00</td>\n",
       "      <td>3.00</td>\n",
       "      <td>0.0</td>\n",
       "      <td>0.00</td>\n",
       "      <td>0.00</td>\n",
       "    </tr>\n",
       "    <tr>\n",
       "      <th>max</th>\n",
       "      <td>70.00</td>\n",
       "      <td>1.00</td>\n",
       "      <td>2.00</td>\n",
       "      <td>2.00</td>\n",
       "      <td>1.00</td>\n",
       "      <td>102127.00</td>\n",
       "      <td>1.00</td>\n",
       "      <td>1.00</td>\n",
       "      <td>1.00</td>\n",
       "      <td>480.00</td>\n",
       "      <td>6.00</td>\n",
       "      <td>275.0</td>\n",
       "      <td>1.00</td>\n",
       "      <td>1.00</td>\n",
       "    </tr>\n",
       "  </tbody>\n",
       "</table>\n",
       "</div>"
      ],
      "text/plain": [
       "            age       job   marital  education   default    balance   housing  \\\n",
       "count  34727.00  34727.00  34727.00   34727.00  34727.00   34727.00  34727.00   \n",
       "mean      40.42      0.21      1.49       1.15      0.02    1323.33      0.57   \n",
       "std        9.92      0.41      0.69       0.66      0.13    3004.05      0.50   \n",
       "min       18.00      0.00      0.00       0.00      0.00   -8019.00      0.00   \n",
       "25%       32.00      0.00      1.00       1.00      0.00      69.00      0.00   \n",
       "50%       39.00      0.00      2.00       1.00      0.00     431.00      1.00   \n",
       "75%       48.00      0.00      2.00       2.00      0.00    1378.00      1.00   \n",
       "max       70.00      1.00      2.00       2.00      1.00  102127.00      1.00   \n",
       "\n",
       "           loan   contact  duration  campaign  previous  poutcome         y  \n",
       "count  34727.00  34727.00  34727.00  34727.00   34727.0  34727.00  34727.00  \n",
       "mean       0.17      0.08    184.93      2.14       0.6      0.19      0.07  \n",
       "std        0.37      0.28    110.85      1.33       2.4      0.39      0.26  \n",
       "min        0.00      0.00      0.00      1.00       0.0      0.00      0.00  \n",
       "25%        0.00      0.00     99.00      1.00       0.0      0.00      0.00  \n",
       "50%        0.00      0.00    162.00      2.00       0.0      0.00      0.00  \n",
       "75%        0.00      0.00    254.00      3.00       0.0      0.00      0.00  \n",
       "max        1.00      1.00    480.00      6.00     275.0      1.00      1.00  "
      ]
     },
     "execution_count": 11,
     "metadata": {},
     "output_type": "execute_result"
    }
   ],
   "source": [
    "df.describe().round(2)"
   ]
  },
  {
   "cell_type": "code",
   "execution_count": 12,
   "id": "59114fe6",
   "metadata": {},
   "outputs": [
    {
     "name": "stdout",
     "output_type": "stream",
     "text": [
      "<class 'pandas.core.frame.DataFrame'>\n",
      "RangeIndex: 34727 entries, 0 to 34726\n",
      "Data columns (total 14 columns):\n",
      " #   Column     Non-Null Count  Dtype\n",
      "---  ------     --------------  -----\n",
      " 0   age        34727 non-null  int64\n",
      " 1   job        34727 non-null  int64\n",
      " 2   marital    34727 non-null  int64\n",
      " 3   education  34727 non-null  int64\n",
      " 4   default    34727 non-null  int64\n",
      " 5   balance    34727 non-null  int64\n",
      " 6   housing    34727 non-null  int64\n",
      " 7   loan       34727 non-null  int64\n",
      " 8   contact    34727 non-null  int64\n",
      " 9   duration   34727 non-null  int64\n",
      " 10  campaign   34727 non-null  int64\n",
      " 11  previous   34727 non-null  int64\n",
      " 12  poutcome   34727 non-null  int64\n",
      " 13  y          34727 non-null  int64\n",
      "dtypes: int64(14)\n",
      "memory usage: 3.7 MB\n"
     ]
    }
   ],
   "source": [
    "df.info()"
   ]
  },
  {
   "cell_type": "markdown",
   "id": "ac010fdc",
   "metadata": {},
   "source": [
    "**2 - model training**"
   ]
  },
  {
   "cell_type": "code",
   "execution_count": 13,
   "id": "51e7c144",
   "metadata": {},
   "outputs": [],
   "source": [
    "from sklearn.model_selection import train_test_split\n",
    "import numpy as np"
   ]
  },
  {
   "cell_type": "code",
   "execution_count": 14,
   "id": "3129efff",
   "metadata": {},
   "outputs": [],
   "source": [
    "X = df.iloc[:, :13]\n",
    "y = df.iloc[:,13]\n",
    "X_train, X_test, y_train, y_test = train_test_split(X, y,\n",
    "                            test_size=0.3,\n",
    "                            random_state=2)"
   ]
  },
  {
   "cell_type": "code",
   "execution_count": 15,
   "id": "cdf1fb9e",
   "metadata": {},
   "outputs": [
    {
     "name": "stdout",
     "output_type": "stream",
     "text": [
      "In-sample Classification Error: 7.5 %\n",
      "Out-of-sample Classification Error: 7.32 %\n"
     ]
    },
    {
     "name": "stderr",
     "output_type": "stream",
     "text": [
      "/Applications/python-anaconda/install/anaconda3/lib/python3.8/site-packages/sklearn/linear_model/_logistic.py:763: ConvergenceWarning: lbfgs failed to converge (status=1):\n",
      "STOP: TOTAL NO. of ITERATIONS REACHED LIMIT.\n",
      "\n",
      "Increase the number of iterations (max_iter) or scale the data as shown in:\n",
      "    https://scikit-learn.org/stable/modules/preprocessing.html\n",
      "Please also refer to the documentation for alternative solver options:\n",
      "    https://scikit-learn.org/stable/modules/linear_model.html#logistic-regression\n",
      "  n_iter_i = _check_optimize_result(\n"
     ]
    }
   ],
   "source": [
    "# Logistic Regression\n",
    "from sklearn.linear_model import LogisticRegression\n",
    "from sklearn.metrics import confusion_matrix\n",
    "\n",
    "model = LogisticRegression(penalty='l2')\n",
    "model.fit(X_train, y_train)\n",
    "\n",
    "tn, fp, fn, tp = confusion_matrix(y_train, model.predict(X_train)).ravel()\n",
    "print('In-sample Classification Error:', round((fp+fn)/(tn+fp+fn+tp),4)*100, '%')\n",
    "\n",
    "tn, fp, fn, tp = confusion_matrix(y_test, model.predict(X_test)).ravel()\n",
    "print('Out-of-sample Classification Error:', round((fp+fn)/(tn+fp+fn+tp),4)*100, '%')"
   ]
  },
  {
   "cell_type": "code",
   "execution_count": 16,
   "id": "d78026bc",
   "metadata": {},
   "outputs": [
    {
     "name": "stdout",
     "output_type": "stream",
     "text": [
      "In-sample Classification Error: 6.3 %\n",
      "Out-of-sample Classification Error: 6.36 %\n"
     ]
    }
   ],
   "source": [
    "# Random Forest\n",
    "from sklearn.ensemble import RandomForestClassifier\n",
    "\n",
    "model = RandomForestClassifier(n_estimators=50, max_depth=7)\n",
    "\n",
    "model.fit(X_train, y_train)\n",
    "\n",
    "tn, fp, fn, tp = confusion_matrix(y_train, model.predict(X_train)).ravel()\n",
    "print('In-sample Classification Error:', round((fp+fn)/(tn+fp+fn+tp),4)*100, '%')\n",
    "\n",
    "tn, fp, fn, tp = confusion_matrix(y_test, model.predict(X_test)).ravel()\n",
    "print('Out-of-sample Classification Error:', round((fp+fn)/(tn+fp+fn+tp),4)*100, '%')"
   ]
  },
  {
   "cell_type": "code",
   "execution_count": 17,
   "id": "6c73baa4",
   "metadata": {},
   "outputs": [
    {
     "name": "stdout",
     "output_type": "stream",
     "text": [
      "In-sample Classification Error: 7.39 %\n",
      "Out-of-sample Classification Error: 7.35 %\n"
     ]
    }
   ],
   "source": [
    "# LDA\n",
    "from sklearn.discriminant_analysis import LinearDiscriminantAnalysis\n",
    "\n",
    "model = LinearDiscriminantAnalysis()\n",
    "\n",
    "model.fit(X_train, y_train)\n",
    "\n",
    "tn, fp, fn, tp = confusion_matrix(y_train, model.predict(X_train)).ravel()\n",
    "print('In-sample Classification Error:', round((fp+fn)/(tn+fp+fn+tp),4)*100, '%')\n",
    "\n",
    "tn, fp, fn, tp = confusion_matrix(y_test, model.predict(X_test)).ravel()\n",
    "print('Out-of-sample Classification Error:', round((fp+fn)/(tn+fp+fn+tp),4)*100, '%')"
   ]
  },
  {
   "cell_type": "code",
   "execution_count": 18,
   "id": "090edffc",
   "metadata": {},
   "outputs": [
    {
     "name": "stdout",
     "output_type": "stream",
     "text": [
      "In-sample Classification Error: 6.29 %\n",
      "Out-of-sample Classification Error: 6.370000000000001 %\n"
     ]
    }
   ],
   "source": [
    "# Decision Tree\n",
    "from sklearn.tree import DecisionTreeClassifier\n",
    "\n",
    "model = DecisionTreeClassifier(criterion='entropy',max_depth=4)\n",
    "\n",
    "model.fit(X_train, y_train)\n",
    "\n",
    "tn, fp, fn, tp = confusion_matrix(y_train, model.predict(X_train)).ravel()\n",
    "print('In-sample Classification Error:', round((fp+fn)/(tn+fp+fn+tp),4)*100, '%')\n",
    "\n",
    "tn, fp, fn, tp = confusion_matrix(y_test, model.predict(X_test)).ravel()\n",
    "print('Out-of-sample Classification Error:', round((fp+fn)/(tn+fp+fn+tp),4)*100, '%')"
   ]
  },
  {
   "cell_type": "code",
   "execution_count": 19,
   "id": "65695f0a",
   "metadata": {},
   "outputs": [
    {
     "name": "stdout",
     "output_type": "stream",
     "text": [
      "In-sample Classification Error: 6.81 %\n",
      "Out-of-sample Classification Error: 6.79 %\n"
     ]
    }
   ],
   "source": [
    "# Boosting methods\n",
    "from sklearn.ensemble import AdaBoostClassifier\n",
    "\n",
    "model = AdaBoostClassifier(learning_rate=0.65,n_estimators=100)\n",
    "\n",
    "model.fit(X_train, y_train)\n",
    "\n",
    "tn, fp, fn, tp = confusion_matrix(y_train, model.predict(X_train)).ravel()\n",
    "print('In-sample Classification Error:', round((fp+fn)/(tn+fp+fn+tp),4)*100, '%')\n",
    "\n",
    "tn, fp, fn, tp = confusion_matrix(y_test, model.predict(X_test)).ravel()\n",
    "print('Out-of-sample Classification Error:', round((fp+fn)/(tn+fp+fn+tp),4)*100, '%')"
   ]
  },
  {
   "cell_type": "code",
   "execution_count": 20,
   "id": "0d8c09da",
   "metadata": {},
   "outputs": [
    {
     "name": "stdout",
     "output_type": "stream",
     "text": [
      "In-sample Classification Error: 5.87 %\n",
      "Out-of-sample Classification Error: 6.35 %\n"
     ]
    }
   ],
   "source": [
    "from sklearn.ensemble import GradientBoostingClassifier\n",
    "\n",
    "model = GradientBoostingClassifier(n_estimators=150) \n",
    "\n",
    "model.fit(X_train, y_train)\n",
    "\n",
    "tn, fp, fn, tp = confusion_matrix(y_train, model.predict(X_train)).ravel()\n",
    "print('In-sample Classification Error:', round((fp+fn)/(tn+fp+fn+tp),4)*100, '%')\n",
    "\n",
    "tn, fp, fn, tp = confusion_matrix(y_test, model.predict(X_test)).ravel()\n",
    "print('Out-of-sample Classification Error:', round((fp+fn)/(tn+fp+fn+tp),4)*100, '%')"
   ]
  },
  {
   "cell_type": "code",
   "execution_count": 21,
   "id": "15aaa500",
   "metadata": {},
   "outputs": [
    {
     "name": "stdout",
     "output_type": "stream",
     "text": [
      "In-sample Classification Error: 7.33 %\n",
      "Out-of-sample Classification Error: 7.12 %\n"
     ]
    }
   ],
   "source": [
    "# Neural network\n",
    "from sklearn.neural_network import MLPClassifier\n",
    "\n",
    "model = MLPClassifier(max_iter=2000)\n",
    "\n",
    "model.fit(X_train, y_train)\n",
    "\n",
    "tn, fp, fn, tp = confusion_matrix(y_train, model.predict(X_train)).ravel()\n",
    "print('In-sample Classification Error:', round((fp+fn)/(tn+fp+fn+tp),4)*100, '%')\n",
    "\n",
    "tn, fp, fn, tp = confusion_matrix(y_test, model.predict(X_test)).ravel()\n",
    "print('Out-of-sample Classification Error:', round((fp+fn)/(tn+fp+fn+tp),4)*100, '%')"
   ]
  },
  {
   "cell_type": "code",
   "execution_count": 22,
   "id": "72c4f0ca",
   "metadata": {},
   "outputs": [],
   "source": [
    "# feature selection"
   ]
  },
  {
   "cell_type": "code",
   "execution_count": 23,
   "id": "515615e7",
   "metadata": {},
   "outputs": [
    {
     "name": "stdout",
     "output_type": "stream",
     "text": [
      "age : -0.006262441065390461\n",
      "job : 0.04557929609642366\n",
      "marital : -0.03029426315150697\n",
      "education : 0.09730470557888482\n",
      "default : -0.030768012786176177\n",
      "balance : 0.051353840255327174\n",
      "housing : -0.17092331628218338\n",
      "loan : -0.07657120440813676\n",
      "contact : -0.013408101760176129\n",
      "duration : 0.20868722769736742\n",
      "campaign : -0.0817132096821789\n",
      "previous : 0.11239577683159696\n",
      "poutcome : 0.12530884850272467\n",
      "y : 0.9999999999999768\n"
     ]
    }
   ],
   "source": [
    "from scipy.stats import pearsonr\n",
    "for i in range(len(df.columns)):\n",
    "    print(df.columns[i],':',pearsonr(df.iloc[:,i],df['y'])[0])"
   ]
  },
  {
   "cell_type": "code",
   "execution_count": 24,
   "id": "c73d6e0c",
   "metadata": {},
   "outputs": [],
   "source": [
    "df_sub_1 = df[['job','education','balance','housing','loan','duration','campaign','previous','poutcome','y']]"
   ]
  },
  {
   "cell_type": "code",
   "execution_count": 25,
   "id": "f81a6a87",
   "metadata": {},
   "outputs": [],
   "source": [
    "X = df_sub_1.iloc[:, :9]\n",
    "y = df_sub_1.iloc[:,9]\n",
    "X_train, X_test, y_train, y_test = train_test_split(X, y,\n",
    "                            test_size=0.3,\n",
    "                            random_state=2)"
   ]
  },
  {
   "cell_type": "code",
   "execution_count": 26,
   "id": "6d6d9d5b",
   "metadata": {},
   "outputs": [
    {
     "name": "stdout",
     "output_type": "stream",
     "text": [
      "In-sample Classification Error: 6.17 %\n",
      "Out-of-sample Classification Error: 6.3 %\n"
     ]
    }
   ],
   "source": [
    "# Random Forest\n",
    "from sklearn.ensemble import RandomForestClassifier\n",
    "\n",
    "model = RandomForestClassifier(n_estimators=50, max_depth=7)\n",
    "\n",
    "model.fit(X_train, y_train)\n",
    "\n",
    "tn, fp, fn, tp = confusion_matrix(y_train, model.predict(X_train)).ravel()\n",
    "print('In-sample Classification Error:', round((fp+fn)/(tn+fp+fn+tp),4)*100, '%')\n",
    "\n",
    "tn, fp, fn, tp = confusion_matrix(y_test, model.predict(X_test)).ravel()\n",
    "print('Out-of-sample Classification Error:', round((fp+fn)/(tn+fp+fn+tp),4)*100, '%')"
   ]
  },
  {
   "cell_type": "code",
   "execution_count": 27,
   "id": "27e99a52",
   "metadata": {},
   "outputs": [
    {
     "name": "stdout",
     "output_type": "stream",
     "text": [
      "In-sample Classification Error: 6.34 %\n",
      "Out-of-sample Classification Error: 6.239999999999999 %\n"
     ]
    }
   ],
   "source": [
    "# Decision Tree\n",
    "from sklearn.tree import DecisionTreeClassifier\n",
    "\n",
    "model = DecisionTreeClassifier(criterion='entropy',max_depth=4)\n",
    "\n",
    "model.fit(X_train, y_train)\n",
    "\n",
    "tn, fp, fn, tp = confusion_matrix(y_train, model.predict(X_train)).ravel()\n",
    "print('In-sample Classification Error:', round((fp+fn)/(tn+fp+fn+tp),4)*100, '%')\n",
    "\n",
    "tn, fp, fn, tp = confusion_matrix(y_test, model.predict(X_test)).ravel()\n",
    "print('Out-of-sample Classification Error:', round((fp+fn)/(tn+fp+fn+tp),4)*100, '%')"
   ]
  },
  {
   "cell_type": "code",
   "execution_count": 28,
   "id": "c18f8c35",
   "metadata": {},
   "outputs": [
    {
     "name": "stdout",
     "output_type": "stream",
     "text": [
      "In-sample Classification Error: 6.04 %\n",
      "Out-of-sample Classification Error: 6.39 %\n"
     ]
    }
   ],
   "source": [
    "from sklearn.ensemble import GradientBoostingClassifier\n",
    "\n",
    "model = GradientBoostingClassifier(n_estimators=150) \n",
    "\n",
    "model.fit(X_train, y_train)\n",
    "\n",
    "tn, fp, fn, tp = confusion_matrix(y_train, model.predict(X_train)).ravel()\n",
    "print('In-sample Classification Error:', round((fp+fn)/(tn+fp+fn+tp),4)*100, '%')\n",
    "\n",
    "tn, fp, fn, tp = confusion_matrix(y_test, model.predict(X_test)).ravel()\n",
    "print('Out-of-sample Classification Error:', round((fp+fn)/(tn+fp+fn+tp),4)*100, '%')"
   ]
  },
  {
   "cell_type": "code",
   "execution_count": 29,
   "id": "d1ae3953",
   "metadata": {},
   "outputs": [],
   "source": [
    "df_sub_2 = df[['housing','duration','campaign','previous','poutcome','y']]"
   ]
  },
  {
   "cell_type": "code",
   "execution_count": 30,
   "id": "fa4a1acb",
   "metadata": {},
   "outputs": [],
   "source": [
    "X = df_sub_2.iloc[:, :5]\n",
    "y = df_sub_2.iloc[:,5]\n",
    "X_train, X_test, y_train, y_test = train_test_split(X, y,\n",
    "                            test_size=0.3,\n",
    "                            random_state=2)"
   ]
  },
  {
   "cell_type": "code",
   "execution_count": 31,
   "id": "d492abcc",
   "metadata": {},
   "outputs": [
    {
     "name": "stdout",
     "output_type": "stream",
     "text": [
      "In-sample Classification Error: 6.18 %\n",
      "Out-of-sample Classification Error: 6.35 %\n"
     ]
    }
   ],
   "source": [
    "# Random Forest\n",
    "from sklearn.ensemble import RandomForestClassifier\n",
    "\n",
    "model = RandomForestClassifier(n_estimators=50, max_depth=7)\n",
    "\n",
    "model.fit(X_train, y_train)\n",
    "\n",
    "tn, fp, fn, tp = confusion_matrix(y_train, model.predict(X_train)).ravel()\n",
    "print('In-sample Classification Error:', round((fp+fn)/(tn+fp+fn+tp),4)*100, '%')\n",
    "\n",
    "tn, fp, fn, tp = confusion_matrix(y_test, model.predict(X_test)).ravel()\n",
    "print('Out-of-sample Classification Error:', round((fp+fn)/(tn+fp+fn+tp),4)*100, '%')"
   ]
  },
  {
   "cell_type": "code",
   "execution_count": 32,
   "id": "39a1ba77",
   "metadata": {},
   "outputs": [
    {
     "name": "stdout",
     "output_type": "stream",
     "text": [
      "In-sample Classification Error: 6.34 %\n",
      "Out-of-sample Classification Error: 6.239999999999999 %\n"
     ]
    }
   ],
   "source": [
    "# Decision Tree\n",
    "from sklearn.tree import DecisionTreeClassifier\n",
    "\n",
    "model = DecisionTreeClassifier(criterion='entropy',max_depth=4)\n",
    "\n",
    "model.fit(X_train, y_train)\n",
    "\n",
    "tn, fp, fn, tp = confusion_matrix(y_train, model.predict(X_train)).ravel()\n",
    "print('In-sample Classification Error:', round((fp+fn)/(tn+fp+fn+tp),4)*100, '%')\n",
    "\n",
    "tn, fp, fn, tp = confusion_matrix(y_test, model.predict(X_test)).ravel()\n",
    "print('Out-of-sample Classification Error:', round((fp+fn)/(tn+fp+fn+tp),4)*100, '%')"
   ]
  },
  {
   "cell_type": "code",
   "execution_count": 33,
   "id": "5359dc44",
   "metadata": {},
   "outputs": [
    {
     "name": "stdout",
     "output_type": "stream",
     "text": [
      "In-sample Classification Error: 6.1899999999999995 %\n",
      "Out-of-sample Classification Error: 6.279999999999999 %\n"
     ]
    }
   ],
   "source": [
    "from sklearn.ensemble import GradientBoostingClassifier\n",
    "\n",
    "model = GradientBoostingClassifier(n_estimators=150) \n",
    "\n",
    "model.fit(X_train, y_train)\n",
    "\n",
    "tn, fp, fn, tp = confusion_matrix(y_train, model.predict(X_train)).ravel()\n",
    "print('In-sample Classification Error:', round((fp+fn)/(tn+fp+fn+tp),4)*100, '%')\n",
    "\n",
    "tn, fp, fn, tp = confusion_matrix(y_test, model.predict(X_test)).ravel()\n",
    "print('Out-of-sample Classification Error:', round((fp+fn)/(tn+fp+fn+tp),4)*100, '%')"
   ]
  }
 ],
 "metadata": {
  "kernelspec": {
   "display_name": "Python 3.8.8 64-bit ('base': conda)",
   "language": "python",
   "name": "python388jvsc74a57bd0b75e249e69e4215cf9a5a2ffe508258e95751d4faf7beb0ecc9dfc6d5e38827b"
  },
  "language_info": {
   "codemirror_mode": {
    "name": "ipython",
    "version": 3
   },
   "file_extension": ".py",
   "mimetype": "text/x-python",
   "name": "python",
   "nbconvert_exporter": "python",
   "pygments_lexer": "ipython3",
   "version": "3.8.8"
  }
 },
 "nbformat": 4,
 "nbformat_minor": 5
}
